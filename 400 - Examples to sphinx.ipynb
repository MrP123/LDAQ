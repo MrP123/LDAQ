{
 "cells": [
  {
   "cell_type": "code",
   "execution_count": null,
   "metadata": {},
   "outputs": [],
   "source": [
    "import sys\n",
    "import glob\n",
    "import os\n",
    "import shutil"
   ]
  },
  {
   "cell_type": "code",
   "execution_count": null,
   "metadata": {},
   "outputs": [],
   "source": [
    "string = \"\"\"\n",
    "{\n",
    "    \"path\": \"../../../examples/<file>.ipynb\"\n",
    "}\"\"\"\n",
    "\n",
    "string_examples = \"\"\"\n",
    "Examples\n",
    "========\n",
    "\n",
    ".. toctree::\n",
    "   :maxdepth: 3\n",
    "\"\"\"\n",
    "\n",
    "files = glob.glob(\"examples/*.ipynb\")"
   ]
  },
  {
   "cell_type": "code",
   "execution_count": null,
   "metadata": {},
   "outputs": [],
   "source": [
    "examples_file = open(\"docs/source/examples.rst\", \"w\")\n",
    "examples_file.write(string_examples)\n",
    "\n",
    "for file in files:\n",
    "    f = os.path.split(file)[-1].split(\".\")[0]\n",
    "    path = os.path.join(\"docs/source/examples\", f + \".nblink\")\n",
    "    # make a file\n",
    "    if os.path.exists(path):\n",
    "        os.remove(path)\n",
    "\n",
    "    with open(path, \"w\") as d:\n",
    "        d.write(str(string).replace(\"<file>\", str(f)))\n",
    "\n",
    "    examples_file.write(\"\\n   examples/\" + f + \".nblink\")\n",
    "examples_file.close()"
   ]
  }
 ],
 "metadata": {
  "language_info": {
   "name": "python"
  }
 },
 "nbformat": 4,
 "nbformat_minor": 2
}
