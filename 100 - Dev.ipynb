{
 "cells": [
  {
   "cell_type": "code",
   "execution_count": 1,
   "metadata": {},
   "outputs": [],
   "source": [
    "import numpy as np\n",
    "import matplotlib.pyplot as plt\n",
    "\n",
    "import LadiskDAQ"
   ]
  },
  {
   "cell_type": "code",
   "execution_count": 2,
   "metadata": {},
   "outputs": [],
   "source": [
    "try:\n",
    "    obj._clear_task()\n",
    "except:\n",
    "    pass\n",
    "\n",
    "obj = LadiskDAQ.NIAcquisition('TestInputTask2')\n",
    "obj.set_trigger(level=3., channel=0, duration=10)"
   ]
  },
  {
   "cell_type": "code",
   "execution_count": 5,
   "metadata": {},
   "outputs": [],
   "source": [
    "def fun(self, data):\n",
    "    return data**2 +  data\n",
    "\n",
    "ldaq = LadiskDAQ.LDAQ(obj)\n",
    "\n",
    "ldaq.configure(plot_layout={\n",
    "    (0, 0): [0], \n",
    "    (0, 1): [0, 1, \"fft\", \"logy\"],\n",
    "    (1, 0): [0, 1, fun, \"logy\"], \n",
    "    (1, 1): [(0, 1)],\n",
    "    (2, 0): [0]\n",
    "}, \n",
    " max_time=5, autoclose=True, \n",
    " nth_point=100\n",
    " )\n",
    "\n",
    "# ldaq.configure(plot_layout={\n",
    "#     (0, 0): [0], (0, 1): [0, ],\n",
    "#     (1, 0): [1], (1, 1): [0, 1],\n",
    "#     (2, 0): [2, 3], (2, 1): [(2, 3)],\n",
    "# }, max_time=5, autoclose=True, nth_point=100)\n",
    "#TODO: channel vs channel, fft of a channel, time series"
   ]
  },
  {
   "cell_type": "code",
   "execution_count": 6,
   "metadata": {
    "scrolled": true
   },
   "outputs": [
    {
     "name": "stdout",
     "output_type": "stream",
     "text": [
      "Press \"q\" to stop measurement.\n",
      "\tWaiting for trigger...stop.\n"
     ]
    }
   ],
   "source": [
    "ldaq.run() "
   ]
  },
  {
   "cell_type": "code",
   "execution_count": null,
   "metadata": {},
   "outputs": [],
   "source": [
    "%matplotlib notebook"
   ]
  },
  {
   "cell_type": "code",
   "execution_count": null,
   "metadata": {},
   "outputs": [],
   "source": [
    "plt.figure()\n",
    "plt.plot(obj.data)"
   ]
  },
  {
   "cell_type": "code",
   "execution_count": null,
   "metadata": {},
   "outputs": [],
   "source": [
    "obj.data.shape"
   ]
  },
  {
   "cell_type": "code",
   "execution_count": 2,
   "metadata": {},
   "outputs": [
    {
     "ename": "NameError",
     "evalue": "name 'ldaq' is not defined",
     "output_type": "error",
     "traceback": [
      "\u001b[1;31m---------------------------------------------------------------------------\u001b[0m",
      "\u001b[1;31mNameError\u001b[0m                                 Traceback (most recent call last)",
      "Input \u001b[1;32mIn [2]\u001b[0m, in \u001b[0;36m<cell line: 1>\u001b[1;34m()\u001b[0m\n\u001b[1;32m----> 1\u001b[0m \u001b[43mldaq\u001b[49m\n",
      "\u001b[1;31mNameError\u001b[0m: name 'ldaq' is not defined"
     ]
    }
   ],
   "source": [
    "ldaq"
   ]
  },
  {
   "cell_type": "code",
   "execution_count": null,
   "metadata": {},
   "outputs": [],
   "source": []
  }
 ],
 "metadata": {
  "interpreter": {
   "hash": "ad2bdc8ecc057115af97d19610ffacc2b4e99fae6737bb82f5d7fb13d2f2c186"
  },
  "kernelspec": {
   "display_name": "Python 3 (ipykernel)",
   "language": "python",
   "name": "python3"
  },
  "language_info": {
   "codemirror_mode": {
    "name": "ipython",
    "version": 3
   },
   "file_extension": ".py",
   "mimetype": "text/x-python",
   "name": "python",
   "nbconvert_exporter": "python",
   "pygments_lexer": "ipython3",
   "version": "3.9.12"
  }
 },
 "nbformat": 4,
 "nbformat_minor": 2
}
