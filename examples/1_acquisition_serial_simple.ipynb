{
 "cells": [
  {
   "cell_type": "code",
   "execution_count": 1,
   "metadata": {},
   "outputs": [],
   "source": [
    "import os\n",
    "import sys\n",
    "sys.path.insert(0, os.path.realpath('../'))"
   ]
  },
  {
   "cell_type": "code",
   "execution_count": 2,
   "metadata": {},
   "outputs": [],
   "source": [
    "import LDAQ"
   ]
  },
  {
   "cell_type": "code",
   "execution_count": 3,
   "metadata": {},
   "outputs": [],
   "source": [
    "# Create serial acquisition source:\n",
    "acq_serial = LDAQ.serial_communication.SerialAcquisition(port=\"COM3\", baudrate=250000, \n",
    "                                                acquisition_name=\"arduino\",\n",
    "                                                byte_sequence=((\"int16\", 2), ),\n",
    "                                                start_bytes=  b\"\\xfa\\xfb\",\n",
    "                                                end_bytes= b\"\\n\",\n",
    "                                                sample_rate=500,\n",
    "                                                channel_names=[\"channel 1\", \"channel 2\"])\n",
    "\n",
    "# Here the arduino sends out bytes over serial where a line would look like this:\n",
    "# b\"\\xfa\\xfb\\x00\\x01\\x00\\x02\\n\n",
    "# Explanation:\n",
    "# b\"\\xfa\\xfb\" are the start bytes\n",
    "# b\"\\n\" is the end byte\n",
    "# b\"\\x00\\x01\" is the first sample (int16)\n",
    "# b\"\\x00\\x02\" is the second sample (int16)"
   ]
  },
  {
   "cell_type": "code",
   "execution_count": 5,
   "metadata": {},
   "outputs": [
    {
     "data": {
      "text/plain": [
       "{'time': array([0.000e+00, 2.000e-03, 4.000e-03, ..., 4.994e+00, 4.996e+00,\n",
       "        4.998e+00]),\n",
       " 'channel_names': ['channel 1', 'channel 2'],\n",
       " 'data': array([[ 512.,  998.],\n",
       "        [ 512., 1014.],\n",
       "        [ 512., 1022.],\n",
       "        ...,\n",
       "        [ 512.,  906.],\n",
       "        [ 512.,  944.],\n",
       "        [ 512.,  975.]]),\n",
       " 'sample_rate': 500}"
      ]
     },
     "execution_count": 5,
     "metadata": {},
     "output_type": "execute_result"
    }
   ],
   "source": [
    "# Each acquisition source can also be run by itself:\n",
    "acq_serial.run_acquisition(5.0) # run for 2 seconds\n",
    "acq_serial.get_measurement_dict() # get the measurement dictionary"
   ]
  },
  {
   "cell_type": "code",
   "execution_count": 6,
   "metadata": {},
   "outputs": [
    {
     "name": "stdout",
     "output_type": "stream",
     "text": [
      "+--------+-------------------------------------------------+\n",
      "| HOTKEY |                   DESCRIPTION                   |\n",
      "+--------+-------------------------------------------------+\n",
      "|   s    | Start the measurement manually (ignore trigger) |\n",
      "+--------+-------------------------------------------------+\n",
      "|   q    |              Stop the measurement               |\n",
      "+--------+-------------------------------------------------+\n",
      "\n",
      "Waiting for trigger...\n",
      "triggered.\n",
      "\tRecording...Measurement finished.\n"
     ]
    },
    {
     "name": "stderr",
     "output_type": "stream",
     "text": [
      "sys:1: ResourceWarning: Unclosed socket <zmq.Socket(zmq.PUSH) at 0x1539f7e2c20>\n",
      "ResourceWarning: Enable tracemalloc to get the object allocation traceback\n"
     ]
    }
   ],
   "source": [
    "# create core object and add acquisition source:\n",
    "ldaq = LDAQ.Core(acquisitions=[acq_serial])\n",
    "# set trigger:\n",
    "ldaq.set_trigger(\n",
    "    source=\"arduino\",\n",
    "    channel=\"channel 2\",\n",
    "    level=100,\n",
    "    duration=5.0)\n",
    "# run acquisition:\n",
    "ldaq.run()"
   ]
  },
  {
   "cell_type": "code",
   "execution_count": 7,
   "metadata": {},
   "outputs": [
    {
     "data": {
      "text/plain": [
       "{'arduino': {'time': array([0.000e+00, 2.000e-03, 4.000e-03, ..., 4.994e+00, 4.996e+00,\n",
       "         4.998e+00]),\n",
       "  'channel_names': ['channel 1', 'channel 2'],\n",
       "  'data': array([[ 512.,  576.],\n",
       "         [ 512.,  639.],\n",
       "         [ 512.,  700.],\n",
       "         ...,\n",
       "         [-512.,  384.],\n",
       "         [-512.,  447.],\n",
       "         [ 512.,  512.]]),\n",
       "  'sample_rate': 500}}"
      ]
     },
     "execution_count": 7,
     "metadata": {},
     "output_type": "execute_result"
    }
   ],
   "source": [
    "# Retrieve the measurement data:\n",
    "measurement = ldaq.get_measurement_dict()\n",
    "measurement"
   ]
  }
 ],
 "metadata": {
  "kernelspec": {
   "display_name": "Python 3.9.12 ('base')",
   "language": "python",
   "name": "python3"
  },
  "language_info": {
   "codemirror_mode": {
    "name": "ipython",
    "version": 3
   },
   "file_extension": ".py",
   "mimetype": "text/x-python",
   "name": "python",
   "nbconvert_exporter": "python",
   "pygments_lexer": "ipython3",
   "version": "3.10.11"
  },
  "toc": {
   "base_numbering": 1,
   "nav_menu": {},
   "number_sections": true,
   "sideBar": true,
   "skip_h1_title": false,
   "title_cell": "Table of Contents",
   "title_sidebar": "Contents",
   "toc_cell": false,
   "toc_position": {},
   "toc_section_display": true,
   "toc_window_display": false
  },
  "varInspector": {
   "cols": {
    "lenName": 16,
    "lenType": 16,
    "lenVar": 40
   },
   "kernels_config": {
    "python": {
     "delete_cmd_postfix": "",
     "delete_cmd_prefix": "del ",
     "library": "var_list.py",
     "varRefreshCmd": "print(var_dic_list())"
    },
    "r": {
     "delete_cmd_postfix": ") ",
     "delete_cmd_prefix": "rm(",
     "library": "var_list.r",
     "varRefreshCmd": "cat(var_dic_list()) "
    }
   },
   "types_to_exclude": [
    "module",
    "function",
    "builtin_function_or_method",
    "instance",
    "_Feature"
   ],
   "window_display": false
  },
  "vscode": {
   "interpreter": {
    "hash": "4a14d6850f8b7ae03939e3e8d0a94af880f09a63e1f8d48b5eb202e35ffc6de5"
   }
  }
 },
 "nbformat": 4,
 "nbformat_minor": 4
}
