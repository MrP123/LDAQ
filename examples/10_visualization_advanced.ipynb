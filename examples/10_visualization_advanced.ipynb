{
 "cells": [
  {
   "cell_type": "code",
   "execution_count": 1,
   "metadata": {},
   "outputs": [],
   "source": [
    "import os\n",
    "import sys\n",
    "import numpy as np\n",
    "sys.path.insert(0, os.path.realpath('../'))"
   ]
  },
  {
   "cell_type": "code",
   "execution_count": 2,
   "metadata": {},
   "outputs": [],
   "source": [
    "import LDAQ"
   ]
  },
  {
   "cell_type": "code",
   "execution_count": 3,
   "metadata": {},
   "outputs": [],
   "source": [
    "# here we should show how to use the visualization object:\n",
    "# - use of functions on channels of subplot\n",
    "    # - use of built in functions\n",
    "    # - use of custom functions\n",
    "# - refresh rates, t_span, x_lim, y_lim\n",
    "# - use case add_image, add_lines\n",
    "# ..."
   ]
  },
  {
   "cell_type": "code",
   "execution_count": 4,
   "metadata": {},
   "outputs": [],
   "source": [
    "# Create simulated data acquisition sources:\n",
    "acq_simulated_data = LDAQ.simulator.SimulatedAcquisition(acquisition_name='sim_data', multi_processing=False)"
   ]
  },
  {
   "cell_type": "code",
   "execution_count": 5,
   "metadata": {},
   "outputs": [],
   "source": [
    "# define simulated data using numpy array (array will be looped over):\n",
    "fs = 10000\n",
    "t = np.arange(fs*2)\n",
    "x = np.sin(2*np.pi*50*t/fs) + np.random.randn(len(t))\n",
    "y = np.sin(2*np.pi*100*t/fs + np.pi/2)\n",
    "simulated_data = np.array([x, y]).T\n",
    "\n",
    "# define simulated data using a function:\n",
    "def simulate_signal(t, f1, f2):\n",
    "    \"\"\"\n",
    "    first argument must be time.\n",
    "    If multi_processing is True, then the function must be pickable and \n",
    "    all libraries must be imported inside the function.\n",
    "    \"\"\"\n",
    "    import numpy as np\n",
    "    sig1 = np.sin(2*np.pi*f1*t) + np.random.rand(len(t))*0.3\n",
    "    sig2 = np.cos(2*np.pi*f2*t) + np.random.rand(len(t))*0.3\n",
    "    return np.array([sig1, sig2]).T"
   ]
  },
  {
   "cell_type": "code",
   "execution_count": 6,
   "metadata": {},
   "outputs": [],
   "source": [
    "# set simulated data (first argument is the function or array):\n",
    "acq_simulated_data.set_simulated_data(simulated_data, channel_names=[\"ch1\", \"ch2\"], sample_rate=fs, args=(84, 120))"
   ]
  },
  {
   "cell_type": "code",
   "execution_count": 7,
   "metadata": {},
   "outputs": [],
   "source": [
    "# create simulated video acquisition source:\n",
    "acq_simulated_video = LDAQ.simulator.SimulatedAcquisition(acquisition_name='sim_video', multi_processing=False)"
   ]
  },
  {
   "cell_type": "code",
   "execution_count": 8,
   "metadata": {},
   "outputs": [],
   "source": [
    "# define simulated video using numpy array:\n",
    "fs = 30\n",
    "simulated_video = np.random.randn(1000, 100, 100)\n",
    "\n",
    "# define simulated video using a function:\n",
    "def simulate_video(t):\n",
    "    \"\"\"\n",
    "    first argument must be time.\n",
    "    If multi_processing is True, then the function must be pickable and \n",
    "    all libraries must be imported inside the function.\n",
    "    \"\"\"\n",
    "    import numpy as np\n",
    "    N = t.shape[0]\t\n",
    "    return np.random.randn(N, 100, 100)"
   ]
  },
  {
   "cell_type": "code",
   "execution_count": 9,
   "metadata": {},
   "outputs": [],
   "source": [
    "acq_simulated_video.set_simulated_video(simulate_video, channel_name_video='cam', sample_rate=fs)"
   ]
  },
  {
   "cell_type": "code",
   "execution_count": 10,
   "metadata": {},
   "outputs": [],
   "source": [
    "def virtual_channel_func(self, ch1):\n",
    "    try:\n",
    "        # At virtual channel definition, retrieving data or channel indices is not yet possible for all channels.\n",
    "        # Therefore, we use a try-except block to properly execute channel definition.\n",
    "        time, data = self.get_data(N_points=2)\n",
    "        i_ch3 = self.get_channel_index(\"ch3\", channel_type='data') # retrieve data index channel of ch1\n",
    "        ch3_prev = data[-1, i_ch3] # retrieve last value of ch1\n",
    "        \n",
    "    except:\n",
    "        # at channel definition, no data is available yet. Therefore, we set the previous value to 0.\n",
    "        ch3_prev = 0\n",
    "        \n",
    "    # cumulative sum of ch1:\n",
    "    ch1_cumsum = np.cumsum(ch1) + ch3_prev\t\n",
    "    return ch1_cumsum.reshape(-1,1)\n",
    "\n",
    "acq_simulated_data.add_virtual_channel(\"ch3\", [\"ch1\"], function=virtual_channel_func)"
   ]
  },
  {
   "cell_type": "code",
   "execution_count": 11,
   "metadata": {},
   "outputs": [],
   "source": [
    "def custom_vis_function(self, data):\n",
    "    # this function is applied to each channel of the subplot individually.\n",
    "    # data is a 1D array.\n",
    "    \n",
    "    return data**3 + 0.5\n",
    "\n",
    "vis = LDAQ.Visualization(sequential_plot_updates=False)\n",
    "vis.add_lines((0,0), source='sim_data', channels=[\"ch1\", \"ch2\"], refresh_rate=50)\n",
    "vis.add_lines((0,1), source='sim_data', channels=[\"ch1\", \"ch2\"], refresh_rate=500, function=\"fft\")\n",
    "vis.add_lines((1,0), source='sim_data', channels=[\"ch1\", \"ch2\"], refresh_rate=50, function=custom_vis_function)\n",
    "vis.add_lines((1,0), source='sim_data', channels=[\"ch3\"], refresh_rate=50)\n",
    "vis.add_lines((2, 0), source='sim_data', channels=[(\"ch1\", \"ch2\")])\n",
    "\n",
    "vis.add_image(source=\"sim_video\", channel=\"cam\", refresh_rate=30)\n",
    "\n",
    "vis.config_subplot((0,0), t_span=0.04, ylim=(-1.1, 1.1))\n",
    "vis.config_subplot((0,1), t_span=0.5, ylim=(0, 1.1), xlim=(0, 500), rowspan=2)\n",
    "vis.config_subplot((1,0), t_span=0.04)"
   ]
  },
  {
   "cell_type": "code",
   "execution_count": 16,
   "metadata": {},
   "outputs": [],
   "source": [
    "ldaq = LDAQ.Core(acquisitions=[acq_simulated_data, acq_simulated_video], visualization=vis)\n",
    "ldaq.run(3.)"
   ]
  },
  {
   "cell_type": "code",
   "execution_count": 20,
   "metadata": {},
   "outputs": [
    {
     "data": {
      "text/plain": [
       "{'sim_data': {'time': array([0.0000e+00, 1.0000e-04, 2.0000e-04, ..., 2.9997e+00, 2.9998e+00,\n",
       "         2.9999e+00]),\n",
       "  'channel_names': ['ch1', 'ch2', 'ch3'],\n",
       "  'data': array([[ 1.18907369e+00, -8.76306680e-01,  3.53242568e+02],\n",
       "         [-1.27870428e-01, -9.04827052e-01,  3.53114697e+02],\n",
       "         [-9.83610267e-01, -9.29776486e-01,  3.52131087e+02],\n",
       "         ...,\n",
       "         [ 3.26830815e-02, -7.70513243e-01,  7.62472231e+02],\n",
       "         [-1.99687628e+00, -8.09016994e-01,  7.60475355e+02],\n",
       "         [ 1.53863497e-02, -8.44327926e-01,  7.60490741e+02]]),\n",
       "  'sample_rate': 10000},\n",
       " 'sim_video': {'time': array([0.        , 0.03333333, 0.06666667, 0.1       , 0.13333333,\n",
       "         0.16666667, 0.2       , 0.23333333, 0.26666667, 0.3       ,\n",
       "         0.33333333, 0.36666667, 0.4       , 0.43333333, 0.46666667,\n",
       "         0.5       , 0.53333333, 0.56666667, 0.6       , 0.63333333,\n",
       "         0.66666667, 0.7       , 0.73333333, 0.76666667, 0.8       ,\n",
       "         0.83333333, 0.86666667, 0.9       , 0.93333333, 0.96666667,\n",
       "         1.        , 1.03333333, 1.06666667, 1.1       , 1.13333333,\n",
       "         1.16666667, 1.2       , 1.23333333, 1.26666667, 1.3       ,\n",
       "         1.33333333, 1.36666667, 1.4       , 1.43333333, 1.46666667,\n",
       "         1.5       , 1.53333333, 1.56666667, 1.6       , 1.63333333,\n",
       "         1.66666667, 1.7       , 1.73333333, 1.76666667, 1.8       ,\n",
       "         1.83333333, 1.86666667, 1.9       , 1.93333333, 1.96666667,\n",
       "         2.        , 2.03333333, 2.06666667, 2.1       , 2.13333333,\n",
       "         2.16666667, 2.2       , 2.23333333, 2.26666667, 2.3       ,\n",
       "         2.33333333, 2.36666667, 2.4       , 2.43333333, 2.46666667,\n",
       "         2.5       , 2.53333333, 2.56666667, 2.6       , 2.63333333,\n",
       "         2.66666667, 2.7       , 2.73333333, 2.76666667, 2.8       ,\n",
       "         2.83333333, 2.86666667, 2.9       , 2.93333333, 2.96666667]),\n",
       "  'channel_names': [],\n",
       "  'data': array([], dtype=float64),\n",
       "  'channel_names_video': ['cam'],\n",
       "  'video': [array([[[ 2.11281063e-01, -2.80164796e+00, -2.83803179e-01, ...,\n",
       "            -4.88713806e-01,  1.42550161e-02, -7.81283730e-01],\n",
       "           [ 9.14217678e-02,  6.31640171e-01,  6.20171786e-01, ...,\n",
       "             1.14882867e+00, -1.34041471e+00, -1.13544486e+00],\n",
       "           [ 3.05863590e+00,  7.72614608e-01, -1.64814500e+00, ...,\n",
       "            -7.70006339e-02,  2.26652318e-01,  3.98139136e-01],\n",
       "           ...,\n",
       "           [-2.35918336e-01, -1.38675629e+00,  9.76661620e-01, ...,\n",
       "             1.38685317e-01, -6.66423584e-01,  5.07417836e-01],\n",
       "           [ 2.53981281e-01,  9.78176040e-01, -1.72795076e+00, ...,\n",
       "             9.62923112e-01,  9.52794580e-01, -4.86763806e-02],\n",
       "           [-2.71172350e-01,  1.05278747e+00, -2.04704880e+00, ...,\n",
       "            -1.78109305e-01, -2.41208710e+00, -1.82593502e+00]],\n",
       "   \n",
       "          [[-1.52217982e-01,  1.00861657e+00,  2.31202842e-01, ...,\n",
       "            -2.59748935e+00,  9.45238627e-01,  2.64925704e-01],\n",
       "           [-1.48257332e-01, -9.83310319e-02, -1.24618701e-01, ...,\n",
       "            -2.02372090e-01,  3.39185486e-01,  1.00756006e+00],\n",
       "           [ 8.57497392e-01,  3.75620443e-01,  1.03351985e+00, ...,\n",
       "             4.08688738e-01, -5.89758917e-01, -7.63170022e-01],\n",
       "           ...,\n",
       "           [ 1.84262483e+00, -5.04227962e-01, -9.31882740e-01, ...,\n",
       "            -6.37256493e-01,  9.47884340e-01, -1.62647428e+00],\n",
       "           [-1.17604319e+00,  1.12025998e+00, -4.26512971e-01, ...,\n",
       "            -4.36635282e-01, -1.57472714e+00, -1.47253947e-01],\n",
       "           [ 2.71128107e-01, -9.33189534e-01,  2.71194944e-01, ...,\n",
       "             2.67189561e-01,  1.23781388e+00,  4.16422456e-01]],\n",
       "   \n",
       "          [[-9.24574384e-01, -1.70413007e+00,  1.24470457e+00, ...,\n",
       "             7.07505314e-01,  8.25703621e-01, -1.09627292e-01],\n",
       "           [-2.57209124e-01,  7.31233055e-01, -2.18132213e-01, ...,\n",
       "            -2.08692232e-01, -3.04340215e-02,  6.86611116e-01],\n",
       "           [ 4.44976250e-04,  5.57725410e-01, -4.88611370e-02, ...,\n",
       "            -1.08526815e+00, -5.93953012e-01,  8.99358052e-01],\n",
       "           ...,\n",
       "           [-1.41043834e+00, -1.03161237e+00,  4.53294377e-01, ...,\n",
       "             2.25181635e-01,  1.03142229e+00,  2.00802088e-01],\n",
       "           [-1.85325924e+00, -5.40580577e-01,  2.69533684e-01, ...,\n",
       "             2.52372518e+00, -5.97577405e-01, -1.39936066e+00],\n",
       "           [-1.65875350e+00, -1.43645080e+00, -7.79171622e-01, ...,\n",
       "             2.69641626e+00, -7.61118199e-01,  4.20152560e-01]],\n",
       "   \n",
       "          ...,\n",
       "   \n",
       "          [[ 1.18083621e-01,  1.17884415e+00, -5.67856915e-01, ...,\n",
       "            -1.47339138e+00,  2.02081091e-01,  1.26775218e+00],\n",
       "           [ 2.12481698e+00,  2.72273757e-01,  5.56368743e-01, ...,\n",
       "             8.12611070e-01, -7.99761307e-01,  2.87594325e-01],\n",
       "           [-3.52021176e-02, -4.87581581e-01,  1.32557890e+00, ...,\n",
       "            -5.37538567e-01, -4.37729769e-01,  1.53781229e+00],\n",
       "           ...,\n",
       "           [-1.79046504e+00, -2.04843482e-01, -8.26343839e-01, ...,\n",
       "            -1.88858408e+00, -6.19487230e-01, -1.07501378e+00],\n",
       "           [ 7.94685167e-01,  1.60975338e-01, -1.16885808e+00, ...,\n",
       "             4.61189816e-01, -1.30681814e+00, -9.02874092e-01],\n",
       "           [-5.36753708e-01,  6.45898541e-01, -1.42480958e+00, ...,\n",
       "            -4.23886076e-01,  3.90088806e-01,  3.63520892e-01]],\n",
       "   \n",
       "          [[ 1.00651839e+00, -3.26839561e-01, -4.18376924e-01, ...,\n",
       "            -3.59849618e-01,  6.46153305e-01, -4.45389471e-02],\n",
       "           [-8.53551180e-02, -2.71909342e+00, -6.54609269e-01, ...,\n",
       "            -1.68474470e+00,  6.27846641e-01,  6.85471167e-01],\n",
       "           [-9.75547477e-01, -5.19155105e-01, -3.17814866e-01, ...,\n",
       "             3.70762409e-01,  7.74072720e-01,  1.20189793e+00],\n",
       "           ...,\n",
       "           [ 2.29475887e-01, -1.36016263e-01,  2.01433587e-02, ...,\n",
       "            -9.48319106e-01, -3.14981055e-01, -3.61632677e-01],\n",
       "           [-9.97004381e-01, -1.91828167e+00, -9.64235323e-01, ...,\n",
       "            -1.35526797e+00, -1.08135912e-01,  4.34716543e-01],\n",
       "           [-1.50260231e+00,  2.38116442e+00,  1.36414212e+00, ...,\n",
       "            -2.91385929e-02,  9.15125726e-01, -6.49245281e-01]],\n",
       "   \n",
       "          [[ 4.42976414e-01, -2.11785541e+00,  6.97801854e-01, ...,\n",
       "            -1.16587030e+00,  5.36550377e-01, -2.21771791e+00],\n",
       "           [ 9.81946326e-01,  8.62298331e-01,  4.20996996e-01, ...,\n",
       "             1.87767853e+00,  9.88186009e-01, -1.25468980e+00],\n",
       "           [ 2.65693021e-01, -1.18463055e+00, -1.26683037e+00, ...,\n",
       "             3.24512522e-01, -1.74338633e+00, -1.57923801e-01],\n",
       "           ...,\n",
       "           [-2.94544303e-01, -7.64579632e-01,  1.39968543e-01, ...,\n",
       "             2.04682573e-01, -1.90689530e+00, -2.80565087e-01],\n",
       "           [-6.65381316e-01,  2.07414381e-01,  1.45633236e+00, ...,\n",
       "            -9.21580437e-01,  1.62682381e+00,  3.64505220e-01],\n",
       "           [ 1.27925684e-01, -4.61562423e-01,  1.22825372e-01, ...,\n",
       "             7.94402437e-01, -1.06751427e+00,  5.88391398e-01]]])],\n",
       "  'sample_rate': 30}}"
      ]
     },
     "execution_count": 20,
     "metadata": {},
     "output_type": "execute_result"
    }
   ],
   "source": [
    "ldaq.get_measurement_dict()"
   ]
  }
 ],
 "metadata": {
  "kernelspec": {
   "display_name": "Python 3.9.12 ('base')",
   "language": "python",
   "name": "python3"
  },
  "language_info": {
   "codemirror_mode": {
    "name": "ipython",
    "version": 3
   },
   "file_extension": ".py",
   "mimetype": "text/x-python",
   "name": "python",
   "nbconvert_exporter": "python",
   "pygments_lexer": "ipython3",
   "version": "3.10.11"
  },
  "toc": {
   "base_numbering": 1,
   "nav_menu": {},
   "number_sections": true,
   "sideBar": true,
   "skip_h1_title": false,
   "title_cell": "Table of Contents",
   "title_sidebar": "Contents",
   "toc_cell": false,
   "toc_position": {},
   "toc_section_display": true,
   "toc_window_display": false
  },
  "varInspector": {
   "cols": {
    "lenName": 16,
    "lenType": 16,
    "lenVar": 40
   },
   "kernels_config": {
    "python": {
     "delete_cmd_postfix": "",
     "delete_cmd_prefix": "del ",
     "library": "var_list.py",
     "varRefreshCmd": "print(var_dic_list())"
    },
    "r": {
     "delete_cmd_postfix": ") ",
     "delete_cmd_prefix": "rm(",
     "library": "var_list.r",
     "varRefreshCmd": "cat(var_dic_list()) "
    }
   },
   "types_to_exclude": [
    "module",
    "function",
    "builtin_function_or_method",
    "instance",
    "_Feature"
   ],
   "window_display": false
  },
  "vscode": {
   "interpreter": {
    "hash": "4a14d6850f8b7ae03939e3e8d0a94af880f09a63e1f8d48b5eb202e35ffc6de5"
   }
  }
 },
 "nbformat": 4,
 "nbformat_minor": 4
}
