{
 "cells": [
  {
   "cell_type": "code",
   "execution_count": 1,
   "metadata": {},
   "outputs": [],
   "source": [
    "import os\n",
    "import sys\n",
    "import numpy as np\n",
    "sys.path.insert(0, os.path.realpath('../'))\n",
    "\n",
    "import LDAQ"
   ]
  },
  {
   "cell_type": "code",
   "execution_count": 2,
   "metadata": {},
   "outputs": [],
   "source": [
    "# ------------------------------------------\n",
    "# Create simulated data acquisition sources:\n",
    "# ------------------------------------------\n",
    "acq_simulated_data = LDAQ.simulator.SimulatedAcquisition(acquisition_name='sim_data')"
   ]
  },
  {
   "cell_type": "code",
   "execution_count": 3,
   "metadata": {},
   "outputs": [],
   "source": [
    "# define simulated data using numpy array (array will be looped over):\n",
    "fs = 10000\n",
    "t = np.arange(fs*2)\n",
    "x = np.sin(2*np.pi*50*t/fs) + np.random.randn(len(t))*0.2\n",
    "y = np.sin(2*np.pi*100*t/fs + np.pi/2)\n",
    "simulated_data = np.array([x, y]).T\n",
    "\n",
    "# define simulated data using a function:\n",
    "def simulate_signal(t, f1, f2):\n",
    "    \"\"\"\n",
    "    first argument must be time.\n",
    "    If multi_processing is True, then the function must be pickable and \n",
    "    all libraries must be imported inside the function.\n",
    "    \"\"\"\n",
    "    import numpy as np\n",
    "    sig1 = np.sin(2*np.pi*f1*t) + np.random.rand(len(t))*0.3\n",
    "    sig2 = np.cos(2*np.pi*f2*t) + np.random.rand(len(t))*0.3\n",
    "    return np.array([sig1, sig2]).T"
   ]
  },
  {
   "cell_type": "code",
   "execution_count": 4,
   "metadata": {},
   "outputs": [],
   "source": [
    "# set simulated data (first argument is the function or array):\n",
    "acq_simulated_data.set_simulated_data(simulated_data, channel_names=[\"ch1\", \"ch2\"], sample_rate=fs, args=(84, 120)) # use array\n",
    "# acq_simulated_data.set_simulated_data(simulate_signal, channel_names=[\"ch1\", \"ch2\"], sample_rate=fs, args=(84, 120)) # use function"
   ]
  },
  {
   "cell_type": "code",
   "execution_count": 5,
   "metadata": {},
   "outputs": [],
   "source": [
    "# ------------------------------------------\n",
    "# create simulated video acquisition source:\n",
    "# ------------------------------------------\n",
    "acq_simulated_video = LDAQ.simulator.SimulatedAcquisition(acquisition_name='sim_video')"
   ]
  },
  {
   "cell_type": "code",
   "execution_count": 7,
   "metadata": {},
   "outputs": [],
   "source": [
    "# define simulated video using numpy array:\n",
    "fs = 30\n",
    "simulated_video = np.random.randn(1000, 100, 100)\n",
    "\n",
    "# define simulated video using a function:\n",
    "def simulate_video(t):\n",
    "    \"\"\"\n",
    "    first argument must be time.\n",
    "    If multi_processing is True, then the function must be pickable and \n",
    "    all libraries must be imported inside the function.\n",
    "    \"\"\"\n",
    "    import numpy as np\n",
    "    N = t.shape[0]\t\n",
    "    return np.random.randn(N, 100, 100)"
   ]
  },
  {
   "cell_type": "code",
   "execution_count": 8,
   "metadata": {},
   "outputs": [],
   "source": [
    "acq_simulated_video.set_simulated_video(simulated_video, channel_name_video='cam', sample_rate=fs) # use array\n",
    "#acq_simulated_video.set_simulated_video(simulate_video, channel_name_video='cam', sample_rate=fs) # use function"
   ]
  },
  {
   "cell_type": "code",
   "execution_count": 10,
   "metadata": {},
   "outputs": [],
   "source": [
    "# ----------------------------\n",
    "# Create visulaization object:\n",
    "# ----------------------------\n",
    "\n",
    "vis = LDAQ.Visualization(sequential_plot_updates=False)\n",
    "vis.add_lines((0,0), source='sim_data', channels=[\"ch1\", \"ch2\"], refresh_rate=50)\n",
    "vis.add_lines((1,0), source='sim_data', channels=[\"ch1\", \"ch2\"], refresh_rate=500, function=\"fft\")\n",
    "\n",
    "vis.add_image(source=\"sim_video\", channel=\"cam\", refresh_rate=30)\n",
    "\n",
    "vis.config_subplot((0,0), t_span=0.04, ylim=(-1.1, 1.1))\n",
    "vis.config_subplot((1,0), t_span=0.5, ylim=(0, 1.1), xlim=(0, 500))"
   ]
  },
  {
   "cell_type": "code",
   "execution_count": 11,
   "metadata": {},
   "outputs": [],
   "source": [
    "ldaq = LDAQ.Core(acquisitions=[acq_simulated_data, acq_simulated_video], visualization=vis)\n",
    "ldaq.run(3.)"
   ]
  },
  {
   "cell_type": "code",
   "execution_count": 12,
   "metadata": {},
   "outputs": [
    {
     "data": {
      "text/plain": [
       "{'sim_data': {'time': array([0.0000e+00, 1.0000e-04, 2.0000e-04, ..., 2.9997e+00, 2.9998e+00,\n",
       "         2.9999e+00]),\n",
       "  'channel_names': ['ch1', 'ch2'],\n",
       "  'data': array([[ 0.54892681, -0.36812455],\n",
       "         [ 0.96943739, -0.30901699],\n",
       "         [ 0.82377562, -0.24868989],\n",
       "         ...,\n",
       "         [ 0.62945189, -0.53582679],\n",
       "         [ 0.82416667, -0.48175367],\n",
       "         [ 0.62075417, -0.42577929]]),\n",
       "  'sample_rate': 10000},\n",
       " 'sim_video': {'time': array([0.        , 0.03333333, 0.06666667, 0.1       , 0.13333333,\n",
       "         0.16666667, 0.2       , 0.23333333, 0.26666667, 0.3       ,\n",
       "         0.33333333, 0.36666667, 0.4       , 0.43333333, 0.46666667,\n",
       "         0.5       , 0.53333333, 0.56666667, 0.6       , 0.63333333,\n",
       "         0.66666667, 0.7       , 0.73333333, 0.76666667, 0.8       ,\n",
       "         0.83333333, 0.86666667, 0.9       , 0.93333333, 0.96666667,\n",
       "         1.        , 1.03333333, 1.06666667, 1.1       , 1.13333333,\n",
       "         1.16666667, 1.2       , 1.23333333, 1.26666667, 1.3       ,\n",
       "         1.33333333, 1.36666667, 1.4       , 1.43333333, 1.46666667,\n",
       "         1.5       , 1.53333333, 1.56666667, 1.6       , 1.63333333,\n",
       "         1.66666667, 1.7       , 1.73333333, 1.76666667, 1.8       ,\n",
       "         1.83333333, 1.86666667, 1.9       , 1.93333333, 1.96666667,\n",
       "         2.        , 2.03333333, 2.06666667, 2.1       , 2.13333333,\n",
       "         2.16666667, 2.2       , 2.23333333, 2.26666667, 2.3       ,\n",
       "         2.33333333, 2.36666667, 2.4       , 2.43333333, 2.46666667,\n",
       "         2.5       , 2.53333333, 2.56666667, 2.6       , 2.63333333,\n",
       "         2.66666667, 2.7       , 2.73333333, 2.76666667, 2.8       ,\n",
       "         2.83333333, 2.86666667, 2.9       , 2.93333333, 2.96666667]),\n",
       "  'channel_names': [],\n",
       "  'data': array([], dtype=float64),\n",
       "  'channel_names_video': ['cam'],\n",
       "  'video': [array([[[-0.47737011, -0.51714612, -0.05148343, ..., -1.78795639,\n",
       "             0.60240873, -0.76178199],\n",
       "           [ 0.29496055,  0.20259612, -2.1185257 , ...,  0.21382727,\n",
       "            -0.36596004, -3.08878918],\n",
       "           [ 0.8986489 , -0.0037448 , -0.93381215, ..., -0.08012505,\n",
       "             0.55294777, -0.73743483],\n",
       "           ...,\n",
       "           [ 1.29124926, -1.73641132, -0.46820026, ...,  0.72931478,\n",
       "            -0.81776483,  1.1593081 ],\n",
       "           [-0.88808284,  0.49942746, -0.09758037, ..., -2.44711852,\n",
       "            -0.96935878,  0.04954615],\n",
       "           [ 0.12006879, -0.42465967,  0.50989344, ...,  0.94093762,\n",
       "            -0.47709805,  0.43998777]],\n",
       "   \n",
       "          [[-0.55528759, -1.38254378,  0.43217679, ...,  1.70033972,\n",
       "             0.78134977,  0.29856613],\n",
       "           [ 0.79945404,  1.47423568,  0.36446019, ..., -0.44052517,\n",
       "             0.63633568, -2.11714906],\n",
       "           [-0.40278793,  1.44039277,  0.05780623, ..., -0.33672514,\n",
       "             0.13528061,  0.52848308],\n",
       "           ...,\n",
       "           [ 0.11508152, -1.20327308, -1.18992202, ..., -1.37125037,\n",
       "            -2.37161696,  1.39258976],\n",
       "           [ 0.35518072,  1.1713428 ,  0.00593274, ...,  0.11643464,\n",
       "            -0.01656952, -0.16072822],\n",
       "           [-0.12835214, -0.57811753, -0.1406596 , ...,  0.75103881,\n",
       "             0.45428682,  1.35446994]],\n",
       "   \n",
       "          [[ 0.66342677, -0.22529046,  0.23636046, ...,  0.4340304 ,\n",
       "             0.53975414,  1.16327568],\n",
       "           [ 0.14136819, -2.65650915,  0.1191785 , ..., -1.35598913,\n",
       "            -1.85364394,  0.48488514],\n",
       "           [-2.89541151,  0.18614038,  0.02408657, ...,  0.54238297,\n",
       "            -0.07849415, -2.08212664],\n",
       "           ...,\n",
       "           [-0.35302467,  0.60531427,  0.48882191, ...,  1.16326728,\n",
       "            -0.86287804, -0.14528075],\n",
       "           [ 0.94867067, -0.02113307, -0.30574623, ..., -0.37609716,\n",
       "             1.17721665,  0.13315624],\n",
       "           [ 1.87264163, -0.54050087, -0.44309455, ..., -0.1619232 ,\n",
       "            -0.55088308, -1.06079677]],\n",
       "   \n",
       "          ...,\n",
       "   \n",
       "          [[ 1.99888667, -3.072764  , -0.07980566, ..., -1.12182504,\n",
       "             0.78282392,  1.77481599],\n",
       "           [-0.62079761,  0.48681667, -0.17046311, ...,  0.0529977 ,\n",
       "            -0.36331769,  0.83875885],\n",
       "           [-0.51129638,  0.68402829,  0.0894167 , ...,  0.51489025,\n",
       "            -0.61341588,  1.72938086],\n",
       "           ...,\n",
       "           [ 0.92798481,  1.47799551, -0.89706242, ...,  0.25065502,\n",
       "             0.80057201,  0.03510874],\n",
       "           [-0.33078274,  0.45335203, -0.91300352, ..., -0.51720403,\n",
       "            -0.10149438,  0.42505536],\n",
       "           [-0.94363044,  0.61255076, -0.9012684 , ...,  0.671237  ,\n",
       "             1.5956    ,  0.48950259]],\n",
       "   \n",
       "          [[-0.23059989, -0.37338787, -1.22007372, ..., -0.3977744 ,\n",
       "             0.82063381,  1.98797721],\n",
       "           [-1.90453499, -1.12517937, -0.6553143 , ...,  1.49881145,\n",
       "            -1.43772876, -0.33290119],\n",
       "           [ 1.29110791,  0.17788535, -0.28857132, ..., -1.89213793,\n",
       "            -0.30434772,  1.1699329 ],\n",
       "           ...,\n",
       "           [-0.44154526,  1.35232454, -0.01340943, ..., -1.45099405,\n",
       "            -0.33370654,  0.65710872],\n",
       "           [ 1.42423202,  0.58975624,  0.10213129, ...,  0.10662535,\n",
       "             0.96877754, -2.19114716],\n",
       "           [ 0.74777147,  0.75300926,  0.9394913 , ..., -0.38846017,\n",
       "            -1.30987052, -1.24881583]],\n",
       "   \n",
       "          [[-1.06146934, -0.42722605, -0.55281095, ...,  0.83359515,\n",
       "             0.49650547,  1.70677034],\n",
       "           [-0.80492194,  0.26695803,  0.5586157 , ..., -1.233207  ,\n",
       "             1.35389508,  0.23521688],\n",
       "           [-1.03110608, -0.08405302, -0.37462494, ..., -1.6524412 ,\n",
       "            -0.52530522, -0.28005477],\n",
       "           ...,\n",
       "           [ 1.13438293, -0.97934444, -1.46710787, ...,  0.62259122,\n",
       "            -0.97801052, -0.10884964],\n",
       "           [-2.31572437,  0.4637098 ,  1.4373889 , ..., -1.23964931,\n",
       "             0.82046768, -0.84652646],\n",
       "           [-0.97331907, -1.43620072, -0.26836979, ...,  0.86682036,\n",
       "            -0.60612831, -0.59048913]]])],\n",
       "  'sample_rate': 30}}"
      ]
     },
     "execution_count": 12,
     "metadata": {},
     "output_type": "execute_result"
    }
   ],
   "source": [
    "ldaq.get_measurement_dict()"
   ]
  },
  {
   "cell_type": "code",
   "execution_count": null,
   "metadata": {},
   "outputs": [],
   "source": []
  }
 ],
 "metadata": {
  "kernelspec": {
   "display_name": "Python 3.9.12 ('base')",
   "language": "python",
   "name": "python3"
  },
  "language_info": {
   "codemirror_mode": {
    "name": "ipython",
    "version": 3
   },
   "file_extension": ".py",
   "mimetype": "text/x-python",
   "name": "python",
   "nbconvert_exporter": "python",
   "pygments_lexer": "ipython3",
   "version": "3.10.11"
  },
  "toc": {
   "base_numbering": 1,
   "nav_menu": {},
   "number_sections": true,
   "sideBar": true,
   "skip_h1_title": false,
   "title_cell": "Table of Contents",
   "title_sidebar": "Contents",
   "toc_cell": false,
   "toc_position": {},
   "toc_section_display": true,
   "toc_window_display": false
  },
  "varInspector": {
   "cols": {
    "lenName": 16,
    "lenType": 16,
    "lenVar": 40
   },
   "kernels_config": {
    "python": {
     "delete_cmd_postfix": "",
     "delete_cmd_prefix": "del ",
     "library": "var_list.py",
     "varRefreshCmd": "print(var_dic_list())"
    },
    "r": {
     "delete_cmd_postfix": ") ",
     "delete_cmd_prefix": "rm(",
     "library": "var_list.r",
     "varRefreshCmd": "cat(var_dic_list()) "
    }
   },
   "types_to_exclude": [
    "module",
    "function",
    "builtin_function_or_method",
    "instance",
    "_Feature"
   ],
   "window_display": false
  },
  "vscode": {
   "interpreter": {
    "hash": "4a14d6850f8b7ae03939e3e8d0a94af880f09a63e1f8d48b5eb202e35ffc6de5"
   }
  }
 },
 "nbformat": 4,
 "nbformat_minor": 4
}
