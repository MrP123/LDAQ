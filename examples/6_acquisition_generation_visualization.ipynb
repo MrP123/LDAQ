{
 "cells": [
  {
   "cell_type": "code",
   "execution_count": 1,
   "metadata": {},
   "outputs": [],
   "source": [
    "import os\n",
    "import sys\n",
    "sys.path.insert(0, os.path.realpath('../'))"
   ]
  },
  {
   "cell_type": "code",
   "execution_count": 2,
   "metadata": {},
   "outputs": [],
   "source": [
    "import LDAQ\n",
    "import numpy as np"
   ]
  },
  {
   "cell_type": "code",
   "execution_count": 3,
   "metadata": {},
   "outputs": [],
   "source": [
    "# Create input and output tasks:\n",
    "\n",
    "# NI 9234\n",
    "task_in = LDAQ.national_instruments.NITask(\"TestInputTask_2\", sample_rate=25600)\n",
    "task_in.add_channel(channel_name=\"V0\", device_ind=2, channel_ind=0, sensitivity=None, sensitivity_units=None, units=\"V\", scale=1., min_val=-4, max_val=4.0)\n",
    "task_in.add_channel(channel_name=\"V1\", device_ind=2, channel_ind=1, sensitivity=None, sensitivity_units=None, units=\"V\", scale=1., min_val=-4, max_val=4.0)\n",
    "\n",
    "# NI 9260\n",
    "task_out = LDAQ.national_instruments.NITaskOutput(\"TestOutputTask_2\", sample_rate=25600)\n",
    "task_out.add_channel(channel_name=\"V0_out\", device_ind=1, channel_ind=0, min_val=-4, max_val=4)\n",
    "task_out.add_channel(channel_name=\"V2_out\", device_ind=1, channel_ind=1, min_val=-4, max_val=4)"
   ]
  },
  {
   "cell_type": "code",
   "execution_count": 4,
   "metadata": {},
   "outputs": [
    {
     "data": {
      "text/plain": [
       "Task name: TestInputTask_2\n",
       "Connected devices:\n",
       "\t(0) - cDAQ4\n",
       "\t(1) - cDAQ4Mod1\n",
       "\t(2) - cDAQ4Mod2\n",
       "\t(3) - VirtualDevice\n",
       "\t(4) - VirtualDevice2\n",
       "Channels: ['V0', 'V1']"
      ]
     },
     "execution_count": 4,
     "metadata": {},
     "output_type": "execute_result"
    }
   ],
   "source": [
    "task_in"
   ]
  },
  {
   "cell_type": "code",
   "execution_count": 16,
   "metadata": {},
   "outputs": [],
   "source": [
    "#create signal:\n",
    "fs = 25600 # output sample rate\n",
    "mp = 10\n",
    "\n",
    "t = np.arange(fs * mp) / fs  \n",
    "signal1 = np.sin(2*np.pi*800*t) \n",
    "signal2 = np.sin(2*np.pi*450*t) \n",
    "\n",
    "excitation_signal = np.array([signal1, signal2]).T # exitation signal that generation class will use"
   ]
  },
  {
   "cell_type": "code",
   "execution_count": 17,
   "metadata": {},
   "outputs": [],
   "source": [
    "# create instances:\n",
    "gen = LDAQ.national_instruments.NIGeneration(task_out, excitation_signal)\n",
    "gen.add_delay(2.0) # generation will start 2 seconds after run() is called on the Core instance\n",
    "\n",
    "acq = LDAQ.national_instruments.NIAcquisition(task_in, acquisition_name=\"NI\")\n",
    "vis = LDAQ.Visualization(refresh_rate=100)\n",
    "\n",
    "# configure live visualization:\n",
    "vis.add_lines((0,0), \"NI\", [0]) # Time signal V0\n",
    "vis.add_lines((1,0), \"NI\", [1]) # Time signal V1\n",
    "vis.add_lines((2,0), \"NI\", [0], function=\"fft\", refresh_rate=3000) # Fourier transform of V0\n",
    "vis.add_lines((3,0), \"NI\", [1], function=\"fft\", refresh_rate=3000) # Fourier transform of V1\n",
    "\n",
    "vis.config_subplot((0, 0), t_span=0.05, ylim=(-10, 10))\n",
    "vis.config_subplot((1, 0), t_span=0.05, ylim=(-10, 10))\n",
    "vis.config_subplot((2, 0), t_span=5.0, ylim=(0, 1.2), xlim=(200, 1000))\n",
    "vis.config_subplot((3, 0), t_span=5.0, ylim=(0, 1.2), xlim=(200, 1000))"
   ]
  },
  {
   "cell_type": "code",
   "execution_count": 21,
   "metadata": {},
   "outputs": [
    {
     "name": "stdout",
     "output_type": "stream",
     "text": [
      "An exception occurred in a process:\n"
     ]
    },
    {
     "name": "stderr",
     "output_type": "stream",
     "text": [
      "Traceback (most recent call last):\n",
      "  File \"C:\\LADISK\\packages\\LadiskDAQ\\LDAQ\\core.py\", line 241, in wrapper\n",
      "    return func(*args, **kwargs)\n",
      "  File \"C:\\LADISK\\packages\\LadiskDAQ\\LDAQ\\national_instruments\\acquisition.py\", line 155, in run_acquisition\n",
      "    super().run_acquisition(run_time, run_in_background=run_in_background)\n",
      "  File \"C:\\LADISK\\packages\\LadiskDAQ\\LDAQ\\acquisition_base.py\", line 542, in run_acquisition\n",
      "    self.clear_buffer() # reads data, does not store in anywhere\n",
      "  File \"C:\\LADISK\\packages\\LadiskDAQ\\LDAQ\\national_instruments\\acquisition.py\", line 95, in clear_buffer\n",
      "    self.Task.acquire_base()\n",
      "  File \"C:\\LADISK\\packages\\LadiskDAQ\\LDAQ\\national_instruments\\ni_task.py\", line 354, in acquire_base\n",
      "    return np.array(self.task.read(number_of_samples_per_channel=constants.READ_ALL_AVAILABLE))\n",
      "  File \"c:\\LADISK\\packages\\LadiskDAQ\\venv_py_3_10\\lib\\site-packages\\nidaqmx\\task.py\", line 667, in read\n",
      "    samples_read = _read_analog_f_64(\n",
      "  File \"c:\\LADISK\\packages\\LadiskDAQ\\venv_py_3_10\\lib\\site-packages\\nidaqmx\\_task_modules\\read_functions.py\", line 31, in _read_analog_f_64\n",
      "    check_for_error(error_code, samps_per_chan_read=samps_per_chan_read.value)\n",
      "  File \"c:\\LADISK\\packages\\LadiskDAQ\\venv_py_3_10\\lib\\site-packages\\nidaqmx\\errors.py\", line 179, in check_for_error\n",
      "    raise DaqReadError(error_buffer.value.decode(\"utf-8\"), error_code, samps_per_chan_read)\n",
      "nidaqmx.errors.DaqReadError: The application is not able to keep up with the hardware acquisition.\n",
      "Increasing the buffer size, reading the data more frequently, or specifying a fixed number of samples to read instead of reading all available samples might correct the problem.\n",
      "Property: DAQmx_Read_RelativeTo\n",
      "Corresponding Value: DAQmx_Val_CurrReadPos\n",
      "Property: DAQmx_Read_Offset\n",
      "Corresponding Value: 0\n",
      "\n",
      "Task Name: TestInputTask_2\n",
      "\n",
      "Status Code: -200279\n",
      "sys:1: ResourceWarning: Unclosed socket <zmq.Socket(zmq.PUSH) at 0x1bf09bbe560>\n",
      "ResourceWarning: Enable tracemalloc to get the object allocation traceback\n"
     ]
    }
   ],
   "source": [
    "# create core object and add acquisition sources:\n",
    "ldaq = LDAQ.Core(acquisitions=[acq], generations=[gen], visualization=vis)\n",
    "\n",
    "# run acquisition:\n",
    "ldaq.run(10.)"
   ]
  },
  {
   "cell_type": "code",
   "execution_count": 20,
   "metadata": {},
   "outputs": [
    {
     "data": {
      "text/plain": [
       "{'NI': {'time': array([0.00000000e+00, 3.90625000e-05, 7.81250000e-05, ...,\n",
       "         9.99988281e+00, 9.99992188e+00, 9.99996094e+00]),\n",
       "  'channel_names': ['V0', 'V1'],\n",
       "  'data': array([[0., 0.],\n",
       "         [0., 0.],\n",
       "         [0., 0.],\n",
       "         ...,\n",
       "         [0., 0.],\n",
       "         [0., 0.],\n",
       "         [0., 0.]]),\n",
       "  'sample_rate': 25600}}"
      ]
     },
     "execution_count": 20,
     "metadata": {},
     "output_type": "execute_result"
    }
   ],
   "source": [
    "# Retrieve the measurement data:\n",
    "measurement = ldaq.get_measurement_dict()\n",
    "measurement"
   ]
  },
  {
   "cell_type": "code",
   "execution_count": null,
   "metadata": {},
   "outputs": [],
   "source": []
  }
 ],
 "metadata": {
  "kernelspec": {
   "display_name": "Python 3.9.12 ('base')",
   "language": "python",
   "name": "python3"
  },
  "language_info": {
   "codemirror_mode": {
    "name": "ipython",
    "version": 3
   },
   "file_extension": ".py",
   "mimetype": "text/x-python",
   "name": "python",
   "nbconvert_exporter": "python",
   "pygments_lexer": "ipython3",
   "version": "3.10.11"
  },
  "toc": {
   "base_numbering": 1,
   "nav_menu": {},
   "number_sections": true,
   "sideBar": true,
   "skip_h1_title": false,
   "title_cell": "Table of Contents",
   "title_sidebar": "Contents",
   "toc_cell": false,
   "toc_position": {},
   "toc_section_display": true,
   "toc_window_display": false
  },
  "varInspector": {
   "cols": {
    "lenName": 16,
    "lenType": 16,
    "lenVar": 40
   },
   "kernels_config": {
    "python": {
     "delete_cmd_postfix": "",
     "delete_cmd_prefix": "del ",
     "library": "var_list.py",
     "varRefreshCmd": "print(var_dic_list())"
    },
    "r": {
     "delete_cmd_postfix": ") ",
     "delete_cmd_prefix": "rm(",
     "library": "var_list.r",
     "varRefreshCmd": "cat(var_dic_list()) "
    }
   },
   "types_to_exclude": [
    "module",
    "function",
    "builtin_function_or_method",
    "instance",
    "_Feature"
   ],
   "window_display": false
  },
  "vscode": {
   "interpreter": {
    "hash": "4a14d6850f8b7ae03939e3e8d0a94af880f09a63e1f8d48b5eb202e35ffc6de5"
   }
  }
 },
 "nbformat": 4,
 "nbformat_minor": 4
}
