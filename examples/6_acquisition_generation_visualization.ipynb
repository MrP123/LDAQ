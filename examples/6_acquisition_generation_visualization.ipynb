{
 "cells": [
  {
   "cell_type": "code",
   "execution_count": 2,
   "metadata": {},
   "outputs": [],
   "source": [
    "import os\n",
    "import sys\n",
    "sys.path.insert(0, os.path.realpath('../'))"
   ]
  },
  {
   "cell_type": "code",
   "execution_count": 4,
   "metadata": {},
   "outputs": [],
   "source": [
    "import LadiskDAQ\n",
    "import numpy as np"
   ]
  },
  {
   "cell_type": "code",
   "execution_count": 6,
   "metadata": {},
   "outputs": [
    {
     "data": {
      "text/plain": [
       "Task name: input_task\n",
       "Connected devices:\n",
       "\t(0) - VirtualDevice\n",
       "\t(1) - VirtualDevice2\n",
       "Channels: ['V0', 'V1']"
      ]
     },
     "execution_count": 6,
     "metadata": {},
     "output_type": "execute_result"
    }
   ],
   "source": [
    "# Create input and output tasks:\n",
    "\n",
    "task_in = LadiskDAQ.NITask(\"TestInputTask_new\", sample_rate=25600)\n",
    "task_in.add_channel(channel_name=\"V0\", device_ind=1, channel_ind=0, sensitivity=None, sensitivity_units=None, units=\"V\", scale=1., min_val=-10, max_val=10.0)\n",
    "task_in.add_channel(channel_name=\"V1\", device_ind=1, channel_ind=1, sensitivity=None, sensitivity_units=None, units=\"V\", scale=1., min_val=-10, max_val=10.0)\n",
    "\n",
    "task_out = LadiskDAQ.NITaskOutput(\"TestOutputTask_new\", sample_rate=25600)\n",
    "task_out.add_channel(channel_name=\"V0_out\", device_ind=2, channel_ind=0, min_val=-10, max_val=10)\n",
    "task_out.add_channel(channel_name=\"V2_out\", device_ind=2, channel_ind=1, min_val=-10, max_val=10)"
   ]
  },
  {
   "cell_type": "code",
   "execution_count": null,
   "metadata": {},
   "outputs": [],
   "source": [
    "#create signal:\n",
    "fs = 25600 # output sample rate\n",
    "mp = 10\n",
    "\n",
    "t = np.arange(fs * mp) / fs  \n",
    "signal1 = np.sin(2*np.pi*800*t) \n",
    "signal2 = np.sin(2*np.pi*200*t) \n",
    "\n",
    "excitation_signal = np.array([signal1, signal2]).T # exitation signal that generation class will use"
   ]
  },
  {
   "cell_type": "code",
   "execution_count": null,
   "metadata": {},
   "outputs": [],
   "source": [
    "# create instances:\n",
    "gen = LadiskDAQ.national_instruments.NIGeneration(task_out, excitation_signal)\n",
    "acq = LadiskDAQ.national_instruments.NIAcquisition(task_in, acquisition_name=\"NI\")\n",
    "vis = LadiskDAQ.Visualization(refresh_rate=100)\n",
    "\n",
    "# configure live visualization:\n",
    "vis.add_lines((0,0), \"NI\", [0]) # Time signal V0\n",
    "vis.add_lines((1,0), \"NI\", [1]) # Time signal V1\n",
    "vis.add_lines((2,0), \"NI\", [0], function=\"fft\") # Fourier transform of V0\n",
    "vis.add_lines((3,0), \"NI\", [1], function=\"fft\") # Fourier transform of V1\n",
    "\n",
    "vis.config_subplot((0, 0), t_span=0.05, ylim=(-10, 10))\n",
    "vis.config_subplot((1, 0), t_span=0.05, ylim=(-10, 10))\n",
    "vis.config_subplot((2, 0), t_span=5.0, ylim=(0, 10), xlim=(200, 1000), refresh_rate=3000)\n",
    "vis.config_subplot((3, 0), t_span=5.0, ylim=(0, 10), xlim=(200, 1000), refresh_rate=3000)"
   ]
  },
  {
   "cell_type": "code",
   "execution_count": 11,
   "metadata": {},
   "outputs": [],
   "source": [
    "# create core object and add acquisition sources:\n",
    "ldaq = LadiskDAQ.Core(acquisitions=[acq], generations=[gen], visualization=vis)\n",
    "\n",
    "# run acquisition:\n",
    "ldaq.run(10.)"
   ]
  },
  {
   "cell_type": "code",
   "execution_count": 12,
   "metadata": {},
   "outputs": [
    {
     "data": {
      "text/plain": [
       "{'arduino': {'time': array([0.000e+00, 2.000e-03, 4.000e-03, ..., 4.994e+00, 4.996e+00,\n",
       "         4.998e+00]),\n",
       "  'channel_names': ['channel 1', 'channel 2'],\n",
       "  'data': array([[ 512.,  576.],\n",
       "         [ 512.,  639.],\n",
       "         [ 512.,  700.],\n",
       "         ...,\n",
       "         [-512.,  384.],\n",
       "         [-512.,  447.],\n",
       "         [ 512.,  512.]]),\n",
       "  'sample_rate': 500},\n",
       " 'esp': {'time': array([0.000e+00, 2.000e-03, 4.000e-03, ..., 4.994e+00, 4.996e+00,\n",
       "         4.998e+00]),\n",
       "  'channel_names': ['esp CH 1', 'esp CH 2'],\n",
       "  'data': array([[512., 263.],\n",
       "         [512., 210.],\n",
       "         [512., 162.],\n",
       "         ...,\n",
       "         [512., 449.],\n",
       "         [512., 383.],\n",
       "         [512., 324.]]),\n",
       "  'sample_rate': 500}}"
      ]
     },
     "execution_count": 12,
     "metadata": {},
     "output_type": "execute_result"
    }
   ],
   "source": [
    "# Retrieve the measurement data:\n",
    "measurement = ldaq.get_measurement_dict()\n",
    "measurement"
   ]
  },
  {
   "cell_type": "code",
   "execution_count": null,
   "metadata": {},
   "outputs": [],
   "source": []
  }
 ],
 "metadata": {
  "kernelspec": {
   "display_name": "Python 3.9.12 ('base')",
   "language": "python",
   "name": "python3"
  },
  "language_info": {
   "codemirror_mode": {
    "name": "ipython",
    "version": 3
   },
   "file_extension": ".py",
   "mimetype": "text/x-python",
   "name": "python",
   "nbconvert_exporter": "python",
   "pygments_lexer": "ipython3",
   "version": "3.10.11"
  },
  "toc": {
   "base_numbering": 1,
   "nav_menu": {},
   "number_sections": true,
   "sideBar": true,
   "skip_h1_title": false,
   "title_cell": "Table of Contents",
   "title_sidebar": "Contents",
   "toc_cell": false,
   "toc_position": {},
   "toc_section_display": true,
   "toc_window_display": false
  },
  "varInspector": {
   "cols": {
    "lenName": 16,
    "lenType": 16,
    "lenVar": 40
   },
   "kernels_config": {
    "python": {
     "delete_cmd_postfix": "",
     "delete_cmd_prefix": "del ",
     "library": "var_list.py",
     "varRefreshCmd": "print(var_dic_list())"
    },
    "r": {
     "delete_cmd_postfix": ") ",
     "delete_cmd_prefix": "rm(",
     "library": "var_list.r",
     "varRefreshCmd": "cat(var_dic_list()) "
    }
   },
   "types_to_exclude": [
    "module",
    "function",
    "builtin_function_or_method",
    "instance",
    "_Feature"
   ],
   "window_display": false
  },
  "vscode": {
   "interpreter": {
    "hash": "4a14d6850f8b7ae03939e3e8d0a94af880f09a63e1f8d48b5eb202e35ffc6de5"
   }
  }
 },
 "nbformat": 4,
 "nbformat_minor": 4
}
