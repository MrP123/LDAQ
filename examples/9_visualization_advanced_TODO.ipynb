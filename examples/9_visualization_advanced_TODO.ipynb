{
 "cells": [
  {
   "cell_type": "code",
   "execution_count": 1,
   "metadata": {},
   "outputs": [],
   "source": [
    "import os\n",
    "import sys\n",
    "import numpy as np\n",
    "sys.path.insert(0, os.path.realpath('../'))"
   ]
  },
  {
   "cell_type": "code",
   "execution_count": 2,
   "metadata": {},
   "outputs": [],
   "source": [
    "import LDAQ"
   ]
  },
  {
   "cell_type": "code",
   "execution_count": null,
   "metadata": {},
   "outputs": [],
   "source": [
    "# here we should show how to use the visualization object:\n",
    "# - use of functions on channels of subplot\n",
    "    # - use of built in functions\n",
    "    # - use of custom functions\n",
    "# - refresh rates, t_span, x_lim, y_lim\n",
    "# - use case add_image, add_lines\n",
    "# ..."
   ]
  },
  {
   "cell_type": "code",
   "execution_count": 3,
   "metadata": {},
   "outputs": [],
   "source": [
    "# Create 1st serial acquisition source:\n",
    "acq_arduino = LDAQ.serial_communication.SerialAcquisition(port=\"COM3\", baudrate=250000, \n",
    "                                                acquisition_name=\"arduino\",\n",
    "                                                byte_sequence=((\"int16\", 2), ),\n",
    "                                                start_bytes=  b\"\\xfa\\xfb\",\n",
    "                                                end_bytes= b\"\\n\",\n",
    "                                                sample_rate=500,\n",
    "                                                channel_names=[\"channel 1\", \"channel 2\"])\n",
    "\n",
    "# Here the arduino sends out bytes over serial where a line would look like this:\n",
    "# b\"\\xfa\\xfb\\x00\\x01\\x00\\x02\\n\n",
    "\n",
    "# Explanation:\n",
    "# b\"\\xfa\\xfb\" are the start bytes\n",
    "# b\"\\n\" is the end byte\n",
    "# b\"\\x00\\x01\" is the first sample (int16)\n",
    "# b\"\\x00\\x02\" is the second sample (int16)"
   ]
  },
  {
   "cell_type": "code",
   "execution_count": null,
   "metadata": {},
   "outputs": [],
   "source": []
  }
 ],
 "metadata": {
  "kernelspec": {
   "display_name": "Python 3.9.12 ('base')",
   "language": "python",
   "name": "python3"
  },
  "language_info": {
   "codemirror_mode": {
    "name": "ipython",
    "version": 3
   },
   "file_extension": ".py",
   "mimetype": "text/x-python",
   "name": "python",
   "nbconvert_exporter": "python",
   "pygments_lexer": "ipython3",
   "version": "3.10.11"
  },
  "toc": {
   "base_numbering": 1,
   "nav_menu": {},
   "number_sections": true,
   "sideBar": true,
   "skip_h1_title": false,
   "title_cell": "Table of Contents",
   "title_sidebar": "Contents",
   "toc_cell": false,
   "toc_position": {},
   "toc_section_display": true,
   "toc_window_display": false
  },
  "varInspector": {
   "cols": {
    "lenName": 16,
    "lenType": 16,
    "lenVar": 40
   },
   "kernels_config": {
    "python": {
     "delete_cmd_postfix": "",
     "delete_cmd_prefix": "del ",
     "library": "var_list.py",
     "varRefreshCmd": "print(var_dic_list())"
    },
    "r": {
     "delete_cmd_postfix": ") ",
     "delete_cmd_prefix": "rm(",
     "library": "var_list.r",
     "varRefreshCmd": "cat(var_dic_list()) "
    }
   },
   "types_to_exclude": [
    "module",
    "function",
    "builtin_function_or_method",
    "instance",
    "_Feature"
   ],
   "window_display": false
  },
  "vscode": {
   "interpreter": {
    "hash": "4a14d6850f8b7ae03939e3e8d0a94af880f09a63e1f8d48b5eb202e35ffc6de5"
   }
  }
 },
 "nbformat": 4,
 "nbformat_minor": 4
}
