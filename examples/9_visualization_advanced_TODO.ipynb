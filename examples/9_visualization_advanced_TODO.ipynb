{
 "cells": [
  {
   "cell_type": "code",
   "execution_count": 1,
   "metadata": {},
   "outputs": [],
   "source": [
    "import os\n",
    "import sys\n",
    "import numpy as np\n",
    "sys.path.insert(0, os.path.realpath('../'))"
   ]
  },
  {
   "cell_type": "code",
   "execution_count": 2,
   "metadata": {},
   "outputs": [],
   "source": [
    "import LDAQ"
   ]
  },
  {
   "cell_type": "code",
   "execution_count": 3,
   "metadata": {},
   "outputs": [],
   "source": [
    "# here we should show how to use the visualization object:\n",
    "# - use of functions on channels of subplot\n",
    "    # - use of built in functions\n",
    "    # - use of custom functions\n",
    "# - refresh rates, t_span, x_lim, y_lim\n",
    "# - use case add_image, add_lines\n",
    "# ..."
   ]
  },
  {
   "cell_type": "code",
   "execution_count": 4,
   "metadata": {},
   "outputs": [],
   "source": [
    "# Create simulated acquisition sources:\n",
    "acq_simulated = LDAQ.simulator.SimulatedAcquisition(acquisition_name='sim')"
   ]
  },
  {
   "cell_type": "code",
   "execution_count": 5,
   "metadata": {},
   "outputs": [],
   "source": [
    "def simulate_signal(t, f1, f2):\n",
    "    sig1 = np.sin(2*np.pi*f1*t) + np.random.rand(len(t))*0.3\n",
    "    sig2 = np.cos(2*np.pi*f2*t) + np.random.rand(len(t))*0.3\n",
    "    return np.array([sig1, sig2]).T\n",
    "\n",
    "acq_simulated.set_simulated_data(simulate_signal, channel_names=[\"ch1\", \"ch2\"], sample_rate=15000, args=(84, 120))"
   ]
  },
  {
   "cell_type": "code",
   "execution_count": 8,
   "metadata": {},
   "outputs": [],
   "source": [
    "def custom_vis_function(self, data):\n",
    "    # this function is applied to each channel of the subplot individually.\n",
    "    # data is a 1D array.\n",
    "    \n",
    "    return data**3 + 0.5\n",
    "\n",
    "vis = LDAQ.Visualization(sequential_plot_updates=False)\n",
    "vis.add_lines((0,0), source='sim', channels=[\"ch1\", \"ch2\"], refresh_rate=50)\n",
    "vis.add_lines((0,1), source='sim', channels=[\"ch1\", \"ch2\"], refresh_rate=500, function=\"fft\")\n",
    "vis.add_lines((1,0), source='sim', channels=[\"ch1\", \"ch2\"], refresh_rate=50, function=custom_vis_function)\n",
    "\n",
    "vis.config_subplot((0,0), t_span=0.04, ylim=(-1.1, 1.1))\n",
    "vis.config_subplot((0,1), t_span=0.5, ylim=(0, 1.1), xlim=(0, 500), rowspan=2)\n",
    "vis.config_subplot((1,0), t_span=0.04)"
   ]
  },
  {
   "cell_type": "code",
   "execution_count": 9,
   "metadata": {},
   "outputs": [],
   "source": [
    "ldaq = LDAQ.Core(acquisitions=[acq_simulated], visualization=vis)\n",
    "ldaq.run(3.)"
   ]
  }
 ],
 "metadata": {
  "kernelspec": {
   "display_name": "Python 3.9.12 ('base')",
   "language": "python",
   "name": "python3"
  },
  "language_info": {
   "codemirror_mode": {
    "name": "ipython",
    "version": 3
   },
   "file_extension": ".py",
   "mimetype": "text/x-python",
   "name": "python",
   "nbconvert_exporter": "python",
   "pygments_lexer": "ipython3",
   "version": "3.10.11"
  },
  "toc": {
   "base_numbering": 1,
   "nav_menu": {},
   "number_sections": true,
   "sideBar": true,
   "skip_h1_title": false,
   "title_cell": "Table of Contents",
   "title_sidebar": "Contents",
   "toc_cell": false,
   "toc_position": {},
   "toc_section_display": true,
   "toc_window_display": false
  },
  "varInspector": {
   "cols": {
    "lenName": 16,
    "lenType": 16,
    "lenVar": 40
   },
   "kernels_config": {
    "python": {
     "delete_cmd_postfix": "",
     "delete_cmd_prefix": "del ",
     "library": "var_list.py",
     "varRefreshCmd": "print(var_dic_list())"
    },
    "r": {
     "delete_cmd_postfix": ") ",
     "delete_cmd_prefix": "rm(",
     "library": "var_list.r",
     "varRefreshCmd": "cat(var_dic_list()) "
    }
   },
   "types_to_exclude": [
    "module",
    "function",
    "builtin_function_or_method",
    "instance",
    "_Feature"
   ],
   "window_display": false
  },
  "vscode": {
   "interpreter": {
    "hash": "4a14d6850f8b7ae03939e3e8d0a94af880f09a63e1f8d48b5eb202e35ffc6de5"
   }
  }
 },
 "nbformat": 4,
 "nbformat_minor": 4
}
