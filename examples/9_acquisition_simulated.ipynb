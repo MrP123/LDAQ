{
 "cells": [
  {
   "cell_type": "code",
   "execution_count": 1,
   "metadata": {},
   "outputs": [],
   "source": [
    "import os\n",
    "import sys\n",
    "import numpy as np\n",
    "sys.path.insert(0, os.path.realpath('../'))"
   ]
  },
  {
   "cell_type": "code",
   "execution_count": 2,
   "metadata": {},
   "outputs": [],
   "source": [
    "import LDAQ"
   ]
  },
  {
   "cell_type": "code",
   "execution_count": 3,
   "metadata": {},
   "outputs": [],
   "source": [
    "# ------------------------------------------\n",
    "# Create simulated data acquisition sources:\n",
    "# ------------------------------------------\n",
    "acq_simulated_data = LDAQ.simulator.SimulatedAcquisition(acquisition_name='sim_data', multi_processing=False)"
   ]
  },
  {
   "cell_type": "code",
   "execution_count": 4,
   "metadata": {},
   "outputs": [],
   "source": [
    "# define simulated data using numpy array (array will be looped over):\n",
    "fs = 10000\n",
    "t = np.arange(fs*2)\n",
    "x = np.sin(2*np.pi*50*t/fs) + np.random.randn(len(t))*0.2\n",
    "y = np.sin(2*np.pi*100*t/fs + np.pi/2)\n",
    "simulated_data = np.array([x, y]).T\n",
    "\n",
    "# define simulated data using a function:\n",
    "def simulate_signal(t, f1, f2):\n",
    "    \"\"\"\n",
    "    first argument must be time.\n",
    "    If multi_processing is True, then the function must be pickable and \n",
    "    all libraries must be imported inside the function.\n",
    "    \"\"\"\n",
    "    import numpy as np\n",
    "    sig1 = np.sin(2*np.pi*f1*t) + np.random.rand(len(t))*0.3\n",
    "    sig2 = np.cos(2*np.pi*f2*t) + np.random.rand(len(t))*0.3\n",
    "    return np.array([sig1, sig2]).T"
   ]
  },
  {
   "cell_type": "code",
   "execution_count": 5,
   "metadata": {},
   "outputs": [],
   "source": [
    "# set simulated data (first argument is the function or array):\n",
    "acq_simulated_data.set_simulated_data(simulated_data, channel_names=[\"ch1\", \"ch2\"], sample_rate=fs, args=(84, 120)) # use array\n",
    "# acq_simulated_data.set_simulated_data(simulate_signal, channel_names=[\"ch1\", \"ch2\"], sample_rate=fs, args=(84, 120)) # use function"
   ]
  },
  {
   "cell_type": "code",
   "execution_count": 29,
   "metadata": {},
   "outputs": [],
   "source": [
    "acq_simulated_data.set_trigger(level=0, channel=0, duration=10.)\n",
    "acq_simulated_data.set_continuous_mode()"
   ]
  },
  {
   "cell_type": "code",
   "execution_count": 30,
   "metadata": {},
   "outputs": [],
   "source": [
    "acq_simulated_data.run_acquisition(run_in_background=True)"
   ]
  },
  {
   "cell_type": "code",
   "execution_count": 47,
   "metadata": {},
   "outputs": [
    {
     "data": {
      "text/plain": [
       "((9870, 2), True)"
      ]
     },
     "execution_count": 47,
     "metadata": {},
     "output_type": "execute_result"
    }
   ],
   "source": [
    "_, data = acq_simulated_data.get_data(N_points=\"new\")\n",
    "data.shape, acq_simulated_data.is_running"
   ]
  },
  {
   "cell_type": "code",
   "execution_count": 48,
   "metadata": {},
   "outputs": [],
   "source": [
    "acq_simulated_data.stop()"
   ]
  },
  {
   "cell_type": "code",
   "execution_count": 24,
   "metadata": {},
   "outputs": [],
   "source": [
    "# ------------------------------------------\n",
    "# create simulated video acquisition source:\n",
    "# ------------------------------------------\n",
    "acq_simulated_video = LDAQ.simulator.SimulatedAcquisition(acquisition_name='sim_video', multi_processing=False)"
   ]
  },
  {
   "cell_type": "code",
   "execution_count": 25,
   "metadata": {},
   "outputs": [],
   "source": [
    "# define simulated video using numpy array:\n",
    "fs = 30\n",
    "simulated_video = np.random.randn(1000, 100, 100)\n",
    "\n",
    "# define simulated video using a function:\n",
    "def simulate_video(t):\n",
    "    \"\"\"\n",
    "    first argument must be time.\n",
    "    If multi_processing is True, then the function must be pickable and \n",
    "    all libraries must be imported inside the function.\n",
    "    \"\"\"\n",
    "    import numpy as np\n",
    "    N = t.shape[0]\t\n",
    "    return np.random.randn(N, 100, 100)"
   ]
  },
  {
   "cell_type": "code",
   "execution_count": 26,
   "metadata": {},
   "outputs": [],
   "source": [
    "acq_simulated_video.set_simulated_video(simulated_video, channel_name_video='cam', sample_rate=fs) # use array\n",
    "#acq_simulated_video.set_simulated_video(simulate_video, channel_name_video='cam', sample_rate=fs) # use function"
   ]
  },
  {
   "cell_type": "code",
   "execution_count": 27,
   "metadata": {},
   "outputs": [],
   "source": [
    "# ----------------------------\n",
    "# Create visulaization object:\n",
    "# ----------------------------\n",
    "\n",
    "vis = LDAQ.Visualization(sequential_plot_updates=False)\n",
    "vis.add_lines((0,0), source='sim_data', channels=[\"ch1\", \"ch2\"], refresh_rate=50)\n",
    "vis.add_lines((1,0), source='sim_data', channels=[\"ch1\", \"ch2\"], refresh_rate=500, function=\"fft\")\n",
    "\n",
    "vis.add_image(source=\"sim_video\", channel=\"cam\", refresh_rate=30)\n",
    "\n",
    "vis.config_subplot((0,0), t_span=0.04, ylim=(-1.1, 1.1))\n",
    "vis.config_subplot((1,0), t_span=0.5, ylim=(0, 1.1), xlim=(0, 500))"
   ]
  },
  {
   "cell_type": "code",
   "execution_count": 28,
   "metadata": {},
   "outputs": [],
   "source": [
    "ldaq = LDAQ.Core(acquisitions=[acq_simulated_data, acq_simulated_video], visualization=vis)\n",
    "ldaq.run(3.)"
   ]
  },
  {
   "cell_type": "code",
   "execution_count": 29,
   "metadata": {},
   "outputs": [
    {
     "data": {
      "text/plain": [
       "{'sim_data': {'time': array([0.0000e+00, 1.0000e-04, 2.0000e-04, ..., 2.9997e+00, 2.9998e+00,\n",
       "         2.9999e+00]),\n",
       "  'channel_names': ['ch1', 'ch2'],\n",
       "  'data': array([[ 1.00979685, -0.42577929],\n",
       "         [ 0.94806224, -0.48175367],\n",
       "         [ 1.24825977, -0.53582679],\n",
       "         ...,\n",
       "         [ 0.80880171, -0.24868989],\n",
       "         [ 0.7779716 , -0.30901699],\n",
       "         [ 0.99091336, -0.36812455]]),\n",
       "  'sample_rate': 10000},\n",
       " 'sim_video': {'time': array([0.        , 0.03333333, 0.06666667, 0.1       , 0.13333333,\n",
       "         0.16666667, 0.2       , 0.23333333, 0.26666667, 0.3       ,\n",
       "         0.33333333, 0.36666667, 0.4       , 0.43333333, 0.46666667,\n",
       "         0.5       , 0.53333333, 0.56666667, 0.6       , 0.63333333,\n",
       "         0.66666667, 0.7       , 0.73333333, 0.76666667, 0.8       ,\n",
       "         0.83333333, 0.86666667, 0.9       , 0.93333333, 0.96666667,\n",
       "         1.        , 1.03333333, 1.06666667, 1.1       , 1.13333333,\n",
       "         1.16666667, 1.2       , 1.23333333, 1.26666667, 1.3       ,\n",
       "         1.33333333, 1.36666667, 1.4       , 1.43333333, 1.46666667,\n",
       "         1.5       , 1.53333333, 1.56666667, 1.6       , 1.63333333,\n",
       "         1.66666667, 1.7       , 1.73333333, 1.76666667, 1.8       ,\n",
       "         1.83333333, 1.86666667, 1.9       , 1.93333333, 1.96666667,\n",
       "         2.        , 2.03333333, 2.06666667, 2.1       , 2.13333333,\n",
       "         2.16666667, 2.2       , 2.23333333, 2.26666667, 2.3       ,\n",
       "         2.33333333, 2.36666667, 2.4       , 2.43333333, 2.46666667,\n",
       "         2.5       , 2.53333333, 2.56666667, 2.6       , 2.63333333,\n",
       "         2.66666667, 2.7       , 2.73333333, 2.76666667, 2.8       ,\n",
       "         2.83333333, 2.86666667, 2.9       , 2.93333333, 2.96666667]),\n",
       "  'channel_names': [],\n",
       "  'data': array([], dtype=float64),\n",
       "  'channel_names_video': ['cam'],\n",
       "  'video': [array([[[ 2.11141819e-01, -2.69784067e-01,  9.75445911e-01, ...,\n",
       "            -3.59556456e-01, -7.44308394e-01,  1.53842043e+00],\n",
       "           [ 6.64769212e-01,  2.62906747e+00, -9.31488014e-01, ...,\n",
       "             1.41480237e+00,  6.28487111e-01,  2.75095149e-01],\n",
       "           [ 6.66001326e-01, -1.67529130e+00,  7.36209552e-01, ...,\n",
       "             6.75739386e-01,  1.15123506e+00,  2.38062006e-01],\n",
       "           ...,\n",
       "           [-1.55717033e+00, -1.13556768e+00, -6.29562294e-01, ...,\n",
       "            -1.22764227e+00,  1.19476646e+00, -2.98818059e-01],\n",
       "           [ 1.67734079e-02, -1.03775928e+00,  1.89849947e-02, ...,\n",
       "            -1.39161822e+00,  8.51092993e-01, -7.00659637e-01],\n",
       "           [ 8.04043135e-01,  1.78326459e+00, -1.72936688e+00, ...,\n",
       "             5.96112289e-02,  1.10128281e+00, -6.85366135e-01]],\n",
       "   \n",
       "          [[-1.36347538e+00, -1.86055247e+00, -8.14550804e-01, ...,\n",
       "            -1.08217278e+00, -1.99828743e+00, -2.53285355e-01],\n",
       "           [-2.40921385e-01,  1.68334647e-01, -3.51909496e-02, ...,\n",
       "            -2.52461025e-01, -8.41352262e-01, -1.59661608e+00],\n",
       "           [-2.14879502e-02, -3.63372629e-01, -5.99643044e-01, ...,\n",
       "             5.70851077e-01, -1.12575808e+00, -2.70324960e+00],\n",
       "           ...,\n",
       "           [-1.14368058e+00, -6.15064831e-01,  5.21214748e-01, ...,\n",
       "            -6.17497446e-01,  1.22040618e+00, -4.06905556e-01],\n",
       "           [-1.37350028e-01,  2.34507279e+00,  2.34465974e-01, ...,\n",
       "             7.58468911e-01, -3.35280388e-01, -1.09306932e+00],\n",
       "           [-1.11141542e+00, -4.26930769e-01,  3.61544340e-01, ...,\n",
       "             5.05283412e-01, -1.13318219e+00,  5.71119218e-01]],\n",
       "   \n",
       "          [[ 4.21096070e-01,  2.30470061e+00, -5.58887499e-01, ...,\n",
       "             7.10706326e-01, -9.21081888e-01,  3.02085547e-01],\n",
       "           [ 2.97674178e-02, -3.61135077e-01,  1.03929229e+00, ...,\n",
       "             5.02058376e-01, -8.46613548e-01,  1.38048418e+00],\n",
       "           [ 1.23090965e+00, -7.17633299e-01, -2.36986265e-02, ...,\n",
       "            -7.95961033e-01,  2.26139190e-01,  1.89102089e+00],\n",
       "           ...,\n",
       "           [ 1.10019496e+00,  2.04103515e+00, -6.56261694e-01, ...,\n",
       "            -3.64075117e-01, -8.21302988e-01, -4.13050764e-01],\n",
       "           [-8.38362981e-01, -1.36105396e+00,  9.70234914e-01, ...,\n",
       "            -8.87799288e-01,  1.03138291e+00, -1.61496714e+00],\n",
       "           [ 1.70150206e+00,  1.28236249e+00, -2.89756641e-01, ...,\n",
       "            -6.73905356e-02,  1.01455444e-01,  2.02149404e+00]],\n",
       "   \n",
       "          ...,\n",
       "   \n",
       "          [[ 1.23615574e+00,  3.03475369e-01, -1.67791988e+00, ...,\n",
       "             1.43742695e+00, -1.59916300e+00, -3.01171291e-01],\n",
       "           [ 9.69786526e-01,  6.69889735e-01, -2.01482913e-01, ...,\n",
       "             1.99125353e-02, -9.44577924e-03, -6.50179755e-01],\n",
       "           [-4.32591596e-01,  4.36536489e-05,  6.33858169e-01, ...,\n",
       "             9.31228726e-01,  7.53115510e-01, -5.67061494e-01],\n",
       "           ...,\n",
       "           [ 9.74747402e-01,  9.56294614e-01, -1.89782866e-01, ...,\n",
       "             8.55317243e-01,  1.62491960e-01, -2.75008420e-01],\n",
       "           [-1.49611481e+00, -6.50067229e-01,  6.50985168e-01, ...,\n",
       "             8.82701901e-01, -8.39394602e-01,  1.14408542e+00],\n",
       "           [ 7.28489577e-01,  4.21752043e-01, -1.46225685e-01, ...,\n",
       "            -5.24843634e-01,  6.30011314e-01,  1.23001454e+00]],\n",
       "   \n",
       "          [[-3.34719550e-01,  6.09674066e-01,  1.13239861e+00, ...,\n",
       "             5.03387080e-01,  4.54137762e-01, -1.95403975e+00],\n",
       "           [ 2.71609622e+00, -1.56928023e+00, -3.17032759e-01, ...,\n",
       "            -4.61942876e-01, -6.93391483e-01, -2.78302189e-01],\n",
       "           [-4.42950634e-01, -2.46157243e+00,  2.15103217e+00, ...,\n",
       "            -1.89518268e+00, -8.28203465e-01, -1.20155673e-01],\n",
       "           ...,\n",
       "           [ 9.73190141e-01, -1.92678028e+00, -1.32438972e+00, ...,\n",
       "            -6.78289929e-02, -3.50282150e-01,  6.24173155e-01],\n",
       "           [-1.43257034e+00, -3.91991184e-01, -4.05133676e-01, ...,\n",
       "             1.71532669e+00, -1.25493323e+00, -2.86976068e+00],\n",
       "           [ 8.69358693e-01,  3.65931112e-01,  4.96256457e-01, ...,\n",
       "            -9.97988230e-01,  7.04491557e-01,  2.23151705e-02]],\n",
       "   \n",
       "          [[-1.17278721e+00, -1.75213016e+00, -1.53536293e+00, ...,\n",
       "             3.48021289e-01, -1.61201856e+00,  1.44330314e+00],\n",
       "           [ 1.08474125e+00, -6.17224829e-01,  5.01784843e-01, ...,\n",
       "            -1.25292068e+00, -1.66746142e+00, -3.43724449e-01],\n",
       "           [ 7.94383102e-01,  7.47201773e-01, -1.01510563e+00, ...,\n",
       "             1.16376102e-01, -1.69548347e+00,  5.44414450e-01],\n",
       "           ...,\n",
       "           [-1.24615181e+00,  1.37123658e+00, -2.81761788e-01, ...,\n",
       "            -1.00513998e+00, -4.03091982e-01,  7.37327271e-01],\n",
       "           [ 9.39332436e-02, -3.36903904e-01, -9.88101393e-01, ...,\n",
       "             2.44941605e-01, -1.31135532e+00,  9.29701830e-01],\n",
       "           [ 1.04360969e+00,  1.31636360e+00,  5.21650506e-01, ...,\n",
       "            -7.79870625e-01, -1.07171347e+00, -9.12668925e-02]]])],\n",
       "  'sample_rate': 30}}"
      ]
     },
     "execution_count": 29,
     "metadata": {},
     "output_type": "execute_result"
    }
   ],
   "source": [
    "ldaq.get_measurement_dict()"
   ]
  },
  {
   "cell_type": "code",
   "execution_count": null,
   "metadata": {},
   "outputs": [],
   "source": []
  }
 ],
 "metadata": {
  "kernelspec": {
   "display_name": "Python 3.9.12 ('base')",
   "language": "python",
   "name": "python3"
  },
  "language_info": {
   "codemirror_mode": {
    "name": "ipython",
    "version": 3
   },
   "file_extension": ".py",
   "mimetype": "text/x-python",
   "name": "python",
   "nbconvert_exporter": "python",
   "pygments_lexer": "ipython3",
   "version": "3.10.11"
  },
  "toc": {
   "base_numbering": 1,
   "nav_menu": {},
   "number_sections": true,
   "sideBar": true,
   "skip_h1_title": false,
   "title_cell": "Table of Contents",
   "title_sidebar": "Contents",
   "toc_cell": false,
   "toc_position": {},
   "toc_section_display": true,
   "toc_window_display": false
  },
  "varInspector": {
   "cols": {
    "lenName": 16,
    "lenType": 16,
    "lenVar": 40
   },
   "kernels_config": {
    "python": {
     "delete_cmd_postfix": "",
     "delete_cmd_prefix": "del ",
     "library": "var_list.py",
     "varRefreshCmd": "print(var_dic_list())"
    },
    "r": {
     "delete_cmd_postfix": ") ",
     "delete_cmd_prefix": "rm(",
     "library": "var_list.r",
     "varRefreshCmd": "cat(var_dic_list()) "
    }
   },
   "types_to_exclude": [
    "module",
    "function",
    "builtin_function_or_method",
    "instance",
    "_Feature"
   ],
   "window_display": false
  },
  "vscode": {
   "interpreter": {
    "hash": "4a14d6850f8b7ae03939e3e8d0a94af880f09a63e1f8d48b5eb202e35ffc6de5"
   }
  }
 },
 "nbformat": 4,
 "nbformat_minor": 4
}
