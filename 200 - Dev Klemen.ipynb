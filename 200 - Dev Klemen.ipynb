{
 "cells": [
  {
   "cell_type": "code",
   "execution_count": 1,
   "metadata": {},
   "outputs": [],
   "source": [
    "import LadiskDAQ"
   ]
  },
  {
   "cell_type": "code",
   "execution_count": 2,
   "metadata": {},
   "outputs": [],
   "source": [
    "import numpy as np\n",
    "import matplotlib.pyplot as plt\n",
    "import matplotlib\n",
    "matplotlib.rcsetup.all_backends\n",
    "import copy\n",
    "\n",
    "import LadiskDAQ"
   ]
  },
  {
   "cell_type": "code",
   "execution_count": 3,
   "metadata": {},
   "outputs": [
    {
     "data": {
      "text/plain": [
       "Task name: task_1\n",
       "Connected devices:\n",
       "\t(0) - Dev1\n",
       "\t(1) - Dev2_output\n",
       "Channels: ['Channel_1', 'Channel_2']"
      ]
     },
     "execution_count": 3,
     "metadata": {},
     "output_type": "execute_result"
    }
   ],
   "source": [
    "task_1 = LadiskDAQ.national_instruments.NITask('task_1', sample_rate=25600)\n",
    "task_1.add_channel('Channel_1', device_ind=0, channel_ind=0, sensitivity=None, sensitivity_units=None, units='pC', scale=1.)\n",
    "task_1.add_channel('Channel_2', device_ind=0, channel_ind=1, sensitivity=None, sensitivity_units=None, units='pC', scale=10.)\n",
    "task_1"
   ]
  },
  {
   "cell_type": "code",
   "execution_count": 4,
   "metadata": {},
   "outputs": [],
   "source": [
    "task_out = LadiskDAQ.national_instruments.NITaskOutput('task_out', sample_rate=10000)\n",
    "task_out.add_channel('out1', 1, 0, min_val=-4, max_val=4)\n",
    "task_out.add_channel('out2', 1, 1, min_val=-4, max_val=4)"
   ]
  },
  {
   "cell_type": "code",
   "execution_count": 5,
   "metadata": {},
   "outputs": [],
   "source": [
    "signal = 0.5*np.sin(np.linspace(0, 12*2*np.pi, 10000)) + 1*np.sin(np.linspace(0, 30*2*np.pi, 10000)) + 0.2*np.cos(np.linspace(0, 24*2*np.pi, 10000))\n",
    "signal = np.vstack((signal, signal)).T\n",
    "\n",
    "gen = LadiskDAQ.national_instruments.NIGeneration(task_out, signal)\n",
    "# gen = LadiskDAQ.NIGenerator('ldaq_out', signal)"
   ]
  },
  {
   "cell_type": "code",
   "execution_count": 6,
   "metadata": {},
   "outputs": [],
   "source": [
    "acq = LadiskDAQ.national_instruments.NIAcquisition(task_1, acquisition_name=\"NI_task\")\n",
    "# acq1 = LadiskDAQ.NIAcquisition('ldaq_in', acquisition_name=\"NI_task\")"
   ]
  },
  {
   "cell_type": "code",
   "execution_count": 7,
   "metadata": {},
   "outputs": [],
   "source": [
    "# acq1 = LadiskDAQ.flir.FLIRThermalCamera('FLIR')\n",
    "# acq1 = LadiskDAQ.BaslerCamera('FLIR', sample_rate=30, subsample=3)"
   ]
  },
  {
   "cell_type": "code",
   "execution_count": 8,
   "metadata": {},
   "outputs": [],
   "source": [
    "vis = LadiskDAQ.Visualization(sequential_plot_updates=True)\n",
    "\n",
    "vis.add_lines((0, 0), 'NI_task', [0], refresh_rate=100, nth='auto')\n",
    "vis.add_lines((1, 0), 'NI_task', [0, 1], refresh_rate=100, nth='auto')\n",
    "vis.add_lines((1, 1), 'NI_task', [0], refresh_rate=500, nth='auto')\n",
    "vis.add_lines((1, 1), 'NI_task', [0, 1], 'fft', refresh_rate=500, nth=1)\n",
    "\n",
    "# vis.add_lines((0, 0), 'FLIR', [(100, 100)], 'fft', refresh_rate=500, nth=100)\n",
    "\n",
    "# vis.add_image('FLIR', refresh_rate=100, colormap='gray')\n",
    "\n",
    "# vis.config_subplot((0, 0), xlim=(0, 5), ylim=(-10, 10), colspan=2, title='Test')\n",
    "# vis.config_subplot((1, 0), xlim=(0, 1), ylim=(-10, 10), title='Test')\n",
    "# vis.config_subplot((1, 1), xlim=(0, 50), title='Test', t_span=1)"
   ]
  },
  {
   "cell_type": "code",
   "execution_count": 9,
   "metadata": {},
   "outputs": [],
   "source": [
    "ldaq = LadiskDAQ.Core(acquisitions=[acq], generations=gen, visualization=vis)\n",
    "\n",
    "ldaq.set_trigger(\n",
    "     source = \"NI_task\",\n",
    "     channel = 0,\n",
    "     level = 100,\n",
    "     duration= 1\n",
    ")\n",
    "\n",
    "ldaq.run(autoclose=False, autostart=False)"
   ]
  },
  {
   "cell_type": "code",
   "execution_count": null,
   "metadata": {},
   "outputs": [],
   "source": []
  }
 ],
 "metadata": {
  "interpreter": {
   "hash": "ad2bdc8ecc057115af97d19610ffacc2b4e99fae6737bb82f5d7fb13d2f2c186"
  },
  "kernelspec": {
   "display_name": "Python 3 (ipykernel)",
   "language": "python",
   "name": "python3"
  },
  "language_info": {
   "codemirror_mode": {
    "name": "ipython",
    "version": 3
   },
   "file_extension": ".py",
   "mimetype": "text/x-python",
   "name": "python",
   "nbconvert_exporter": "python",
   "pygments_lexer": "ipython3",
   "version": "3.10.0"
  },
  "toc": {
   "base_numbering": 1,
   "nav_menu": {},
   "number_sections": true,
   "sideBar": true,
   "skip_h1_title": false,
   "title_cell": "Table of Contents",
   "title_sidebar": "Contents",
   "toc_cell": false,
   "toc_position": {},
   "toc_section_display": true,
   "toc_window_display": false
  },
  "varInspector": {
   "cols": {
    "lenName": 16,
    "lenType": 16,
    "lenVar": 40
   },
   "kernels_config": {
    "python": {
     "delete_cmd_postfix": "",
     "delete_cmd_prefix": "del ",
     "library": "var_list.py",
     "varRefreshCmd": "print(var_dic_list())"
    },
    "r": {
     "delete_cmd_postfix": ") ",
     "delete_cmd_prefix": "rm(",
     "library": "var_list.r",
     "varRefreshCmd": "cat(var_dic_list()) "
    }
   },
   "types_to_exclude": [
    "module",
    "function",
    "builtin_function_or_method",
    "instance",
    "_Feature"
   ],
   "window_display": false
  }
 },
 "nbformat": 4,
 "nbformat_minor": 4
}
