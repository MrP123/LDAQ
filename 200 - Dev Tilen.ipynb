{
 "cells": [
  {
   "cell_type": "code",
   "execution_count": 1,
   "metadata": {},
   "outputs": [],
   "source": [
    "import numpy as np\n",
    "import matplotlib.pyplot as plt\n",
    "import matplotlib\n",
    "matplotlib.rcsetup.all_backends\n",
    "\n",
    "import pickle\n",
    "import pyExSi\n",
    "\n",
    "import LadiskDAQ\n",
    "import os\n",
    "\n",
    "%matplotlib qt"
   ]
  },
  {
   "cell_type": "code",
   "execution_count": 2,
   "metadata": {},
   "outputs": [],
   "source": [
    "\n",
    "acq1 = LadiskDAQ.NIAcquisition(\"TestInputTask\", acquisition_name=\"NI\")\n",
    "\n",
    "\n",
    "acq2 = LadiskDAQ.SerialAcquisition(port=\"COM3\", baudrate=250000, timeout=5,\n",
    "                                  byte_sequence=((\"int16\", 1), (\"int16\", 1)),\n",
    "                                  start_bytes=b\"\\xfa\\xfb\",\n",
    "                                  end_bytes=b\"\\n\",\n",
    "                                  pretest_time= None,\n",
    "                                  sample_rate=500.,\n",
    "                                  acquisition_name=\"Arduino\"\n",
    "                                  )\n",
    "\n",
    "acq3 = LadiskDAQ.WaveFormsAcquisition(\n",
    "    channels=[0, 1],    sample_rate=10000, \n",
    "    channel_names=[\"Channel 0\", \"Channel 1\"], acquisition_name=\"AD\", device_number=None\n",
    ")\n",
    "acq3.configure_channels(\n",
    "    input_range={0: (-1, 1), 1: (-1, 1)},\n",
    ")"
   ]
  },
  {
   "cell_type": "code",
   "execution_count": 3,
   "metadata": {},
   "outputs": [
    {
     "data": {
      "text/plain": [
       "'AD'"
      ]
     },
     "execution_count": 3,
     "metadata": {},
     "output_type": "execute_result"
    }
   ],
   "source": [
    "acq3.acquisition_name"
   ]
  },
  {
   "cell_type": "code",
   "execution_count": 4,
   "metadata": {},
   "outputs": [],
   "source": [
    "#create signal:\n",
    "fs = 10000 # output sample rate\n",
    "mp = 10\n",
    "\n",
    "time_array = np.arange(fs * mp) / fs  \n",
    "\n",
    "N = len(time_array)    # number of data points of time signal\n",
    "t = np.arange(0,N)/fs  # time vector\n",
    "M = N // 2 + 1         # number of data points in frequency vector\n",
    "freq = np.arange(0, M, 1) * fs / N # frequency vector\n",
    "PSD = pyExSi.get_psd(freq, freq_lower=100, freq_upper=500) # one-sided flat-shaped PSD\n",
    "signal1 = pyExSi.random_gaussian(N, PSD, fs)\n",
    "\n",
    "signal2 = np.sin(2*np.pi*300*time_array)\n",
    "\n",
    "excitation_signal = np.array([signal1, signal2])\n",
    "plt.figure()\n",
    "plt.plot(excitation_signal.T)\n",
    "\n",
    "# create generation class:\n",
    "gen1 = LadiskDAQ.NIGenerator('TestOutputTask', excitation_signal)"
   ]
  },
  {
   "cell_type": "code",
   "execution_count": 17,
   "metadata": {},
   "outputs": [],
   "source": [
    "def multiply(self, channel_data):\n",
    "    '''\n",
    "    :param self:         instance of the acquisition object (has to be there so the function is called properly)\n",
    "    :param channel_data: channel data\n",
    "    '''\n",
    "    return channel_data * 0.01\n",
    "        \n",
    "subplot_options = {\n",
    "            (0, 0): {\n",
    "                'xlim': (0, 0.1),\n",
    "                'ylim': (-3, 3),\n",
    "                'axis_style': 'linear'\n",
    "            },\n",
    "            (0, 1): {\n",
    "                'xlim': (0, 0.1),\n",
    "                'ylim': (-2, 2),\n",
    "                'axis_style': 'linear'\n",
    "            },\n",
    "            (1, 0): {\n",
    "                'xlim': (0, 600),\n",
    "                'axis_style': 'log'\n",
    "            },\n",
    "            (1, 1): {\n",
    "                'xlim': (0, 0.3),\n",
    "                'axis_style': 'linear'\n",
    "            }\n",
    "        }\n",
    "layout = {\n",
    "    \"NI\": {\n",
    "        (0, 0): [0],\n",
    "        (0, 1): [1],\n",
    "        (1, 0): [0, \"fft\"]\n",
    "    },\n",
    "    \"AD\": {\n",
    "        (0, 0): [0],\n",
    "        (0, 1): [1],\n",
    "        (1, 0): [0, \"fft\"]\n",
    "    },\n",
    "    \"Arduino\": {\n",
    "        (1, 1): [0, 1, multiply]\n",
    "    }\n",
    "}\n",
    "\n",
    "vis = LadiskDAQ.Visualization(layout=layout, subplot_options=subplot_options, \n",
    "                              nth=10, refresh_rate=100)\n",
    "#vis.max_points_to_refresh = 100000"
   ]
  },
  {
   "cell_type": "code",
   "execution_count": 18,
   "metadata": {},
   "outputs": [],
   "source": [
    "# create DAQ object:\n",
    "ldaq = LadiskDAQ.Core(acquisitions=[acq1, acq2, acq3], generations=[gen1], visualization=vis)\n",
    "\n",
    "ldaq.set_trigger(\n",
    "    source=\"NI\",\n",
    "    level    =1e10, \n",
    "    channel  =1,\n",
    "    duration =10, \n",
    "    duration_unit='seconds', \n",
    "    presamples = 0, \n",
    "    trigger_type ='abs'\n",
    ")\n",
    "\n",
    "# ldaq.set_global_trigger(\n",
    "#     \"NI_task\", 0, 1.4\n",
    "# )"
   ]
  },
  {
   "cell_type": "code",
   "execution_count": 19,
   "metadata": {},
   "outputs": [
    {
     "name": "stdout",
     "output_type": "stream",
     "text": [
      "\tWaiting for trigger...saved.\n",
      "saved.\n",
      "Measurement finished.\n"
     ]
    }
   ],
   "source": [
    "ldaq.run(measurement_duration=10., autostart=False, run_name=\"RunTest\", save_interval=3.0, root='C:/LADISK/packages/test_meas', verbose=1)"
   ]
  },
  {
   "cell_type": "code",
   "execution_count": 14,
   "metadata": {},
   "outputs": [],
   "source": [
    "measurement_dict = ldaq.get_measurement_dict(N_seconds=None)\n",
    "\n",
    "root = r\"C:\\LADISK\\packages\\test_meas\"\n",
    "file = os.listdir(root)[-1]\n",
    "measurement_dict_saved = LadiskDAQ.load_measurement(file, root)"
   ]
  },
  {
   "cell_type": "code",
   "execution_count": 15,
   "metadata": {},
   "outputs": [
    {
     "name": "stderr",
     "output_type": "stream",
     "text": [
      "No artists with labels found to put in legend.  Note that artists whose label start with an underscore are ignored when legend() is called with no argument.\n",
      "No artists with labels found to put in legend.  Note that artists whose label start with an underscore are ignored when legend() is called with no argument.\n",
      "No artists with labels found to put in legend.  Note that artists whose label start with an underscore are ignored when legend() is called with no argument.\n"
     ]
    }
   ],
   "source": [
    "fig, axs = plt.subplots(4, sharex=True)\n",
    "for idx, source in enumerate(list(measurement_dict.keys())):\n",
    "    meas = measurement_dict[source]\n",
    "   \n",
    "    meas_saved = measurement_dict_saved[source]\n",
    "    axs[idx].plot( meas[\"time\"], meas[\"data\"], label=\"measurement\")\n",
    "    axs[idx].plot( meas_saved[\"time\"], meas_saved[\"data\"], label=\"saved\")\n",
    "    \n",
    "    #axs[idx+1].plot( meas[\"time\"], meas[\"data\"], label=\"measurement\")\n",
    "    #axs[idx+2].plot( meas_saved[\"time\"], meas_saved[\"data\"], label=\"saved\")\n",
    "    \n",
    "    #axs[idx+2].plot( meas[\"data\"])\n",
    "    #axs[idx+3].plot( meas_saved[\"data\"])\n",
    "    \n",
    "for ax in axs:\n",
    "    ax.legend(loc=\"upper center\")\n"
   ]
  },
  {
   "cell_type": "code",
   "execution_count": 9,
   "metadata": {},
   "outputs": [
    {
     "data": {
      "text/plain": [
       "(0.04137538909912109, 0.036010456085205075, 0.0053649330139160165)"
      ]
     },
     "execution_count": 9,
     "metadata": {},
     "output_type": "execute_result"
    }
   ],
   "source": [
    "acq1.tshift, acq3.tshift, acq1.tshift - acq3.tshift"
   ]
  },
  {
   "cell_type": "code",
   "execution_count": 8,
   "metadata": {},
   "outputs": [
    {
     "data": {
      "text/plain": [
       "(array([], dtype=float64), array([], shape=(0, 2), dtype=float64))"
      ]
     },
     "execution_count": 8,
     "metadata": {},
     "output_type": "execute_result"
    }
   ],
   "source": [
    "acq1.get_data(\"new\")"
   ]
  },
  {
   "cell_type": "code",
   "execution_count": 14,
   "metadata": {},
   "outputs": [
    {
     "data": {
      "text/plain": [
       "((256000, 2), (256000, 2), 256000)"
      ]
     },
     "execution_count": 14,
     "metadata": {},
     "output_type": "execute_result"
    }
   ],
   "source": [
    "data = measurement_dict['NI_task']['data']\n",
    "data_saved = measurement_dict_saved['NI_task']['data']\n",
    "data.shape, data_saved.shape, acq1.Trigger.ringbuff.rows"
   ]
  },
  {
   "cell_type": "code",
   "execution_count": 15,
   "metadata": {},
   "outputs": [
    {
     "data": {
      "text/plain": [
       "(0, 0, 0)"
      ]
     },
     "execution_count": 15,
     "metadata": {},
     "output_type": "execute_result"
    }
   ],
   "source": [
    "i = np.where(data[:, 1] > 1.5)[0][0]\n",
    "i_saved = np.where(data_saved[:, 1] > 1.5)[0][0]\n",
    "i, i_saved, i_saved-i"
   ]
  },
  {
   "cell_type": "code",
   "execution_count": 3,
   "metadata": {},
   "outputs": [
    {
     "data": {
      "text/plain": [
       "62500.00000000001"
      ]
     },
     "execution_count": 3,
     "metadata": {},
     "output_type": "execute_result"
    }
   ],
   "source": [
    "20 / (0.18 * (1000/750) / 750)"
   ]
  },
  {
   "cell_type": "code",
   "execution_count": null,
   "metadata": {},
   "outputs": [],
   "source": []
  }
 ],
 "metadata": {
  "kernelspec": {
   "display_name": "Python 3.9.12 ('base')",
   "language": "python",
   "name": "python3"
  },
  "language_info": {
   "codemirror_mode": {
    "name": "ipython",
    "version": 3
   },
   "file_extension": ".py",
   "mimetype": "text/x-python",
   "name": "python",
   "nbconvert_exporter": "python",
   "pygments_lexer": "ipython3",
   "version": "3.9.12"
  },
  "toc": {
   "base_numbering": 1,
   "nav_menu": {},
   "number_sections": true,
   "sideBar": true,
   "skip_h1_title": false,
   "title_cell": "Table of Contents",
   "title_sidebar": "Contents",
   "toc_cell": false,
   "toc_position": {},
   "toc_section_display": true,
   "toc_window_display": false
  },
  "varInspector": {
   "cols": {
    "lenName": 16,
    "lenType": 16,
    "lenVar": 40
   },
   "kernels_config": {
    "python": {
     "delete_cmd_postfix": "",
     "delete_cmd_prefix": "del ",
     "library": "var_list.py",
     "varRefreshCmd": "print(var_dic_list())"
    },
    "r": {
     "delete_cmd_postfix": ") ",
     "delete_cmd_prefix": "rm(",
     "library": "var_list.r",
     "varRefreshCmd": "cat(var_dic_list()) "
    }
   },
   "types_to_exclude": [
    "module",
    "function",
    "builtin_function_or_method",
    "instance",
    "_Feature"
   ],
   "window_display": false
  },
  "vscode": {
   "interpreter": {
    "hash": "4a14d6850f8b7ae03939e3e8d0a94af880f09a63e1f8d48b5eb202e35ffc6de5"
   }
  }
 },
 "nbformat": 4,
 "nbformat_minor": 4
}
