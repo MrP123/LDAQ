{
 "cells": [
  {
   "cell_type": "code",
   "execution_count": 1,
   "metadata": {},
   "outputs": [],
   "source": [
    "import numpy as np\n",
    "import matplotlib.pyplot as plt\n",
    "import matplotlib\n",
    "matplotlib.rcsetup.all_backends\n",
    "import pickle\n",
    "\n",
    "import pyExSi\n",
    "\n",
    "import LadiskDAQ\n",
    "\n",
    "%matplotlib qt"
   ]
  },
  {
   "cell_type": "code",
   "execution_count": 8,
   "metadata": {},
   "outputs": [],
   "source": [
    "acq1 = LadiskDAQ.NIAcquisition(\"TestInputTask\", acquisition_name=\"NI_task\")\n",
    "\n",
    "acq2 = LadiskDAQ.SerialAcquisition(port=\"COM3\", baudrate=250000, timeout=5,\n",
    "                                  byte_sequence=((\"int16\", 1), (\"int16\", 1)),\n",
    "                                  start_bytes=b\"\\xfa\\xfb\",\n",
    "                                  end_bytes=b\"\\n\",\n",
    "                                  pretest_time= 60.,\n",
    "                                  sample_rate=500.,\n",
    "                                  acquisition_name=\"Arduino_1\"\n",
    "                                  )\n",
    "\n",
    "acq3 = LadiskDAQ.SerialAcquisition(port=\"COM8\", baudrate=250000, timeout=5,\n",
    "                                  byte_sequence=((\"int16\", 1), (\"int16\", 1)),\n",
    "                                  start_bytes=b\"\\xfa\\xfb\", \n",
    "                                  end_bytes=b\"\\n\",\n",
    "                                  pretest_time= None,\n",
    "                                  sample_rate=200,\n",
    "                                  acquisition_name=\"Arduino_2\"\n",
    "                                  )\n"
   ]
  },
  {
   "cell_type": "code",
   "execution_count": 9,
   "metadata": {},
   "outputs": [
    {
     "data": {
      "text/plain": [
       "'Arduino_2'"
      ]
     },
     "execution_count": 9,
     "metadata": {},
     "output_type": "execute_result"
    }
   ],
   "source": [
    "acq3.acquisition_name"
   ]
  },
  {
   "cell_type": "code",
   "execution_count": 10,
   "metadata": {},
   "outputs": [
    {
     "data": {
      "text/plain": [
       "(25600.0, 500.0, 200)"
      ]
     },
     "execution_count": 10,
     "metadata": {},
     "output_type": "execute_result"
    }
   ],
   "source": [
    "acq1.sample_rate, acq2.sample_rate, acq3.sample_rate"
   ]
  },
  {
   "cell_type": "code",
   "execution_count": 11,
   "metadata": {},
   "outputs": [],
   "source": [
    "# create DAQ object:\n",
    "ldaq = LadiskDAQ.Core(acquisitions=[acq2, acq1, acq3])\n",
    "ldaq.set_global_trigger(\n",
    "     trigger_source = \"Arduino_1\", \n",
    "     trigger_channel = 1, \n",
    "     trigger_level = 100.,\n",
    ")"
   ]
  },
  {
   "cell_type": "code",
   "execution_count": 12,
   "metadata": {},
   "outputs": [
    {
     "name": "stdout",
     "output_type": "stream",
     "text": [
      "+--------+-------------------------------------------------+\n",
      "| HOTKEY |                   DESCRIPTION                   |\n",
      "+--------+-------------------------------------------------+\n",
      "|   s    | Start the measurement manually (ignore trigger) |\n",
      "+--------+-------------------------------------------------+\n",
      "|   q    |              Stop the measurement               |\n",
      "+--------+-------------------------------------------------+\n",
      "|   f    |            Freeze the plot (toggle)             |\n",
      "+--------+-------------------------------------------------+\n",
      "\tWaiting for trigger..."
     ]
    },
    {
     "name": "stderr",
     "output_type": "stream",
     "text": [
      "Exception in thread Thread-14:\n",
      "Traceback (most recent call last):\n",
      "  File \"c:\\Users\\tilen\\anaconda3\\lib\\threading.py\", line 973, in _bootstrap_inner\n",
      "    self.run()\n",
      "  File \"c:\\Users\\tilen\\anaconda3\\lib\\threading.py\", line 910, in run\n",
      "    self._target(*self._args, **self._kwargs)\n",
      "  File \"c:\\LADISK\\packages\\LadiskDAQ\\LadiskDAQ\\core.py\", line 227, in _run_global_trigger\n",
      "    self.global_Trigger.add_data(data)\n",
      "  File \"c:\\Users\\tilen\\anaconda3\\lib\\site-packages\\pyTrigger.py\", line 119, in add_data\n",
      "    self._add_data_chunk(data[i * self.rows:(i + 1) * self.rows])\n",
      "  File \"c:\\Users\\tilen\\anaconda3\\lib\\site-packages\\pyTrigger.py\", line 132, in _add_data_chunk\n",
      "    trigger = self._trigger_index(data)\n",
      "  File \"c:\\Users\\tilen\\anaconda3\\lib\\site-packages\\pyTrigger.py\", line 82, in _trigger_index\n",
      "    row = data[:, self.trigger_channel]\n",
      "IndexError: index 0 is out of bounds for axis 1 with size 0\n"
     ]
    },
    {
     "name": "stdout",
     "output_type": "stream",
     "text": [
      "Measurement finished.\n"
     ]
    }
   ],
   "source": [
    "ldaq.run(run_time=10.0)"
   ]
  },
  {
   "cell_type": "code",
   "execution_count": null,
   "metadata": {},
   "outputs": [],
   "source": []
  },
  {
   "cell_type": "code",
   "execution_count": 7,
   "metadata": {},
   "outputs": [
    {
     "data": {
      "text/plain": [
       "[<matplotlib.lines.Line2D at 0x1c42c96c040>,\n",
       " <matplotlib.lines.Line2D at 0x1c42c96c0a0>]"
      ]
     },
     "execution_count": 7,
     "metadata": {},
     "output_type": "execute_result"
    }
   ],
   "source": [
    "fig, axs = plt.subplots(3, sharex=True)\n",
    "axs[0].plot( acq1.time, acq1.data )\n",
    "axs[1].plot( acq2.time, acq2.data )\n",
    "axs[2].plot( acq3.time, acq3.data )"
   ]
  },
  {
   "cell_type": "code",
   "execution_count": null,
   "metadata": {},
   "outputs": [],
   "source": []
  },
  {
   "cell_type": "code",
   "execution_count": 3,
   "metadata": {},
   "outputs": [
    {
     "name": "stdout",
     "output_type": "stream",
     "text": [
      "Has duplicates: True\n"
     ]
    }
   ],
   "source": [
    "strings = ['apple', 'banana', 'orange', 'banana', 'grape']\n",
    "result = any(strings.count(s) > 1 for s in set(strings))\n",
    "print(\"Has duplicates:\", result)"
   ]
  },
  {
   "cell_type": "code",
   "execution_count": null,
   "metadata": {},
   "outputs": [],
   "source": []
  }
 ],
 "metadata": {
  "kernelspec": {
   "display_name": "Python 3.9.12 ('base')",
   "language": "python",
   "name": "python3"
  },
  "language_info": {
   "codemirror_mode": {
    "name": "ipython",
    "version": 3
   },
   "file_extension": ".py",
   "mimetype": "text/x-python",
   "name": "python",
   "nbconvert_exporter": "python",
   "pygments_lexer": "ipython3",
   "version": "3.9.12"
  },
  "toc": {
   "base_numbering": 1,
   "nav_menu": {},
   "number_sections": true,
   "sideBar": true,
   "skip_h1_title": false,
   "title_cell": "Table of Contents",
   "title_sidebar": "Contents",
   "toc_cell": false,
   "toc_position": {},
   "toc_section_display": true,
   "toc_window_display": false
  },
  "varInspector": {
   "cols": {
    "lenName": 16,
    "lenType": 16,
    "lenVar": 40
   },
   "kernels_config": {
    "python": {
     "delete_cmd_postfix": "",
     "delete_cmd_prefix": "del ",
     "library": "var_list.py",
     "varRefreshCmd": "print(var_dic_list())"
    },
    "r": {
     "delete_cmd_postfix": ") ",
     "delete_cmd_prefix": "rm(",
     "library": "var_list.r",
     "varRefreshCmd": "cat(var_dic_list()) "
    }
   },
   "types_to_exclude": [
    "module",
    "function",
    "builtin_function_or_method",
    "instance",
    "_Feature"
   ],
   "window_display": false
  },
  "vscode": {
   "interpreter": {
    "hash": "4a14d6850f8b7ae03939e3e8d0a94af880f09a63e1f8d48b5eb202e35ffc6de5"
   }
  }
 },
 "nbformat": 4,
 "nbformat_minor": 4
}
