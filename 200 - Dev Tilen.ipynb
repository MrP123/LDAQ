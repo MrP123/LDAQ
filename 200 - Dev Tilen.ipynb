{
 "cells": [
  {
   "cell_type": "code",
   "execution_count": 1,
   "metadata": {},
   "outputs": [],
   "source": [
    "import numpy as np\n",
    "import matplotlib.pyplot as plt\n",
    "import matplotlib\n",
    "matplotlib.rcsetup.all_backends\n",
    "import pickle\n",
    "\n",
    "import pyExSi\n",
    "\n",
    "import LadiskDAQ\n",
    "import os\n",
    "\n",
    "%matplotlib qt"
   ]
  },
  {
   "cell_type": "code",
   "execution_count": 2,
   "metadata": {},
   "outputs": [],
   "source": [
    "acq1 = LadiskDAQ.NIAcquisition(\"TestInputTask\", acquisition_name=\"NI_task\")\n",
    "\n",
    "acq2 = LadiskDAQ.SerialAcquisition(port=\"COM3\", baudrate=250000, timeout=5,\n",
    "                                  byte_sequence=((\"int16\", 1), (\"int16\", 1)),\n",
    "                                  start_bytes=b\"\\xfa\\xfb\",\n",
    "                                  end_bytes=b\"\\n\",\n",
    "                                  pretest_time= None,\n",
    "                                  sample_rate=500.,\n",
    "                                  acquisition_name=\"Arduino_1\"\n",
    "                                  )\n",
    "\n",
    "acq3 = LadiskDAQ.SerialAcquisition(port=\"COM8\", baudrate=250000, timeout=5,\n",
    "                                  byte_sequence=((\"int16\", 1), (\"int16\", 1)),\n",
    "                                  start_bytes=b\"\\xfa\\xfb\", \n",
    "                                  end_bytes=b\"\\n\",\n",
    "                                  pretest_time= None,\n",
    "                                  sample_rate=200,\n",
    "                                  acquisition_name=\"Arduino_2\"\n",
    "                                  )\n"
   ]
  },
  {
   "cell_type": "code",
   "execution_count": 3,
   "metadata": {},
   "outputs": [
    {
     "data": {
      "text/plain": [
       "(25600.0, 500.0, 200)"
      ]
     },
     "execution_count": 3,
     "metadata": {},
     "output_type": "execute_result"
    }
   ],
   "source": [
    "acq1.sample_rate, acq2.sample_rate, acq3.sample_rate"
   ]
  },
  {
   "cell_type": "code",
   "execution_count": 4,
   "metadata": {},
   "outputs": [],
   "source": [
    "# create DAQ object:\n",
    "ldaq = LadiskDAQ.Core(acquisitions=[acq3, acq1, acq2])\n",
    "#ldaq.set_global_trigger(\n",
    "#     trigger_source = \"Arduino_1\", \n",
    "#     trigger_channel = 1, \n",
    "#     trigger_level = 10000,\n",
    "#)\n",
    "\n",
    "# run v trigger, \n",
    "# set_trigger()\n",
    "# ta trigger naštima acq trigger in ne naredi svoj trigger."
   ]
  },
  {
   "cell_type": "code",
   "execution_count": 8,
   "metadata": {},
   "outputs": [
    {
     "name": "stdout",
     "output_type": "stream",
     "text": [
      "\tWaiting for trigger...acq\n",
      "acq\n",
      "acq\n",
      "check\n",
      "per_save\n"
     ]
    }
   ],
   "source": [
    "ldaq.run(run_time=120., run_name=\"RunTest\", save_interval=1., root='C:/LADISK/packages/test_meas', verbose=1)"
   ]
  },
  {
   "cell_type": "code",
   "execution_count": 6,
   "metadata": {},
   "outputs": [],
   "source": [
    "measurement_dict = ldaq.get_measurement_dict(N_seconds=None)\n",
    "\n",
    "root = r\"C:\\LADISK\\packages\\test_meas\"\n",
    "file = os.listdir(root)[-1]\n",
    "measurement_dict_saved = LadiskDAQ.load_measurement(file, root)"
   ]
  },
  {
   "cell_type": "code",
   "execution_count": 7,
   "metadata": {},
   "outputs": [],
   "source": [
    "fig, axs = plt.subplots(3, sharex=True)\n",
    "for idx, source in enumerate(list(measurement_dict.keys())):\n",
    "    meas = measurement_dict[source]\n",
    "    meas_saved = measurement_dict_saved[source]\n",
    "    axs[idx].plot( meas[\"time\"], meas[\"data\"] )\n",
    "    axs[idx].plot( meas_saved[\"time\"], meas_saved[\"data\"] )\n"
   ]
  },
  {
   "cell_type": "code",
   "execution_count": null,
   "metadata": {},
   "outputs": [],
   "source": []
  }
 ],
 "metadata": {
  "kernelspec": {
   "display_name": "Python 3.9.12 ('base')",
   "language": "python",
   "name": "python3"
  },
  "language_info": {
   "codemirror_mode": {
    "name": "ipython",
    "version": 3
   },
   "file_extension": ".py",
   "mimetype": "text/x-python",
   "name": "python",
   "nbconvert_exporter": "python",
   "pygments_lexer": "ipython3",
   "version": "3.9.12"
  },
  "toc": {
   "base_numbering": 1,
   "nav_menu": {},
   "number_sections": true,
   "sideBar": true,
   "skip_h1_title": false,
   "title_cell": "Table of Contents",
   "title_sidebar": "Contents",
   "toc_cell": false,
   "toc_position": {},
   "toc_section_display": true,
   "toc_window_display": false
  },
  "varInspector": {
   "cols": {
    "lenName": 16,
    "lenType": 16,
    "lenVar": 40
   },
   "kernels_config": {
    "python": {
     "delete_cmd_postfix": "",
     "delete_cmd_prefix": "del ",
     "library": "var_list.py",
     "varRefreshCmd": "print(var_dic_list())"
    },
    "r": {
     "delete_cmd_postfix": ") ",
     "delete_cmd_prefix": "rm(",
     "library": "var_list.r",
     "varRefreshCmd": "cat(var_dic_list()) "
    }
   },
   "types_to_exclude": [
    "module",
    "function",
    "builtin_function_or_method",
    "instance",
    "_Feature"
   ],
   "window_display": false
  },
  "vscode": {
   "interpreter": {
    "hash": "4a14d6850f8b7ae03939e3e8d0a94af880f09a63e1f8d48b5eb202e35ffc6de5"
   }
  }
 },
 "nbformat": 4,
 "nbformat_minor": 4
}
