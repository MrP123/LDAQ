{
 "cells": [
  {
   "cell_type": "code",
   "execution_count": 1,
   "metadata": {},
   "outputs": [],
   "source": [
    "%matplotlib qt"
   ]
  },
  {
   "cell_type": "code",
   "execution_count": 2,
   "metadata": {},
   "outputs": [],
   "source": [
    "import numpy as np\n",
    "import matplotlib.pyplot as plt\n",
    "import matplotlib\n",
    "matplotlib.rcsetup.all_backends\n",
    "\n",
    "import pyExSi\n",
    "\n",
    "import LadiskDAQ"
   ]
  },
  {
   "cell_type": "code",
   "execution_count": 3,
   "metadata": {},
   "outputs": [],
   "source": [
    "acq = LadiskDAQ.NIAcquisition('TestInputTask')\n",
    "acq.set_trigger(10, 0, duration=10)"
   ]
  },
  {
   "cell_type": "code",
   "execution_count": 4,
   "metadata": {},
   "outputs": [
    {
     "data": {
      "text/plain": [
       "(2, 51200)"
      ]
     },
     "execution_count": 4,
     "metadata": {},
     "output_type": "execute_result"
    }
   ],
   "source": [
    "fs = 51200 # output sample rate\n",
    "time_array = np.arange(fs) / fs  \n",
    "\n",
    "signal1 = pyExSi.sine_sweep(time_array, freq_start=100, freq_stop=2000)\n",
    "#signal2 = 0.1*np.sin(time_array*2*np.pi*50-0.4*np.pi) + 0.01*np.cos(time_array*2*np.pi*100-np.pi)\n",
    "signal2 = np.sin(time_array*2*np.pi*500)\n",
    "signal2 = - signal1 * 2\n",
    "\n",
    "signal = np.array([signal1, signal2])\n",
    "\n",
    "\n",
    "#plt.figure()\n",
    "#plt.plot(time_array, signal1)\n",
    "\n",
    "signal.shape"
   ]
  },
  {
   "cell_type": "code",
   "execution_count": 5,
   "metadata": {},
   "outputs": [],
   "source": [
    "gen = LadiskDAQ.NIGenerator('TestOutputTask', signal)"
   ]
  },
  {
   "cell_type": "code",
   "execution_count": 6,
   "metadata": {},
   "outputs": [],
   "source": [
    "def fun1(self, data):\n",
    "    return data**2 + 10\n",
    "\n",
    "def fun2(self, data):\n",
    "    return data**2 - 2\n",
    "\n",
    "def fun3(self, data):\n",
    "    X = np.fft.rfft(data)*2/len(data)\n",
    "    freq = np.fft.rfftfreq(len(data), d=1/self.acquisition.sample_rate)\n",
    "    return np.array([freq, np.abs(X)]).T\n",
    "\n",
    "def fun4(self, data):\n",
    "    x, y = data.T\n",
    "    x, y = x**2+100, y**3-30\n",
    "    return np.array([x, y]).T\n",
    "\n",
    "plot_layout={\n",
    "    (0, 0): [1],\n",
    "    (0, 1): [0],\n",
    "    (1, 0): [1, \"fft\"],\n",
    "    (1, 1): [0, \"fft\"],\n",
    "    (2, 0): [(0, 1), \"frf_amp\"],\n",
    "    (2, 1): [(0, 1), \"frf_phase\"]\n",
    "}\n",
    "\n",
    "#plot_layout = 'default'\n",
    "\n",
    "ldaq = LadiskDAQ.LDAQ(acq, gen)\n",
    "ldaq.configure(plot_layout=plot_layout, max_time=1, autoclose=True, nth_point=1)"
   ]
  },
  {
   "cell_type": "code",
   "execution_count": null,
   "metadata": {},
   "outputs": [
    {
     "name": "stdout",
     "output_type": "stream",
     "text": [
      "Press \"q\" to stop measurement.\n",
      "\tWaiting for trigger..."
     ]
    }
   ],
   "source": [
    "ldaq.run()"
   ]
  },
  {
   "cell_type": "code",
   "execution_count": 9,
   "metadata": {},
   "outputs": [
    {
     "data": {
      "text/plain": [
       "[<matplotlib.lines.Line2D at 0x21e7d3aa160>]"
      ]
     },
     "execution_count": 9,
     "metadata": {},
     "output_type": "execute_result"
    }
   ],
   "source": [
    "plt.figure()\n",
    "plt.plot(acq.data[:, 0][:len(acq.data)//3])\n",
    "# plt.plot(signal.T)"
   ]
  },
  {
   "cell_type": "code",
   "execution_count": 21,
   "metadata": {},
   "outputs": [
    {
     "data": {
      "text/plain": [
       "['Voltage', 'Voltage_0']"
      ]
     },
     "execution_count": 21,
     "metadata": {},
     "output_type": "execute_result"
    }
   ],
   "source": []
  },
  {
   "cell_type": "code",
   "execution_count": null,
   "metadata": {},
   "outputs": [],
   "source": []
  }
 ],
 "metadata": {
  "interpreter": {
   "hash": "ad2bdc8ecc057115af97d19610ffacc2b4e99fae6737bb82f5d7fb13d2f2c186"
  },
  "kernelspec": {
   "display_name": "Python 3 (ipykernel)",
   "language": "python",
   "name": "python3"
  },
  "language_info": {
   "codemirror_mode": {
    "name": "ipython",
    "version": 3
   },
   "file_extension": ".py",
   "mimetype": "text/x-python",
   "name": "python",
   "nbconvert_exporter": "python",
   "pygments_lexer": "ipython3",
   "version": "3.9.12"
  },
  "toc": {
   "base_numbering": 1,
   "nav_menu": {},
   "number_sections": true,
   "sideBar": true,
   "skip_h1_title": false,
   "title_cell": "Table of Contents",
   "title_sidebar": "Contents",
   "toc_cell": false,
   "toc_position": {},
   "toc_section_display": true,
   "toc_window_display": false
  },
  "varInspector": {
   "cols": {
    "lenName": 16,
    "lenType": 16,
    "lenVar": 40
   },
   "kernels_config": {
    "python": {
     "delete_cmd_postfix": "",
     "delete_cmd_prefix": "del ",
     "library": "var_list.py",
     "varRefreshCmd": "print(var_dic_list())"
    },
    "r": {
     "delete_cmd_postfix": ") ",
     "delete_cmd_prefix": "rm(",
     "library": "var_list.r",
     "varRefreshCmd": "cat(var_dic_list()) "
    }
   },
   "types_to_exclude": [
    "module",
    "function",
    "builtin_function_or_method",
    "instance",
    "_Feature"
   ],
   "window_display": false
  }
 },
 "nbformat": 4,
 "nbformat_minor": 4
}
