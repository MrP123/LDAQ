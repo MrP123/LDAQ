{
 "cells": [
  {
   "cell_type": "code",
   "execution_count": 1,
   "metadata": {},
   "outputs": [],
   "source": [
    "import numpy as np\n",
    "import matplotlib.pyplot as plt\n",
    "import matplotlib\n",
    "matplotlib.rcsetup.all_backends\n",
    "import pickle\n",
    "\n",
    "import pyExSi\n",
    "\n",
    "import LadiskDAQ\n",
    "\n",
    "%matplotlib qt"
   ]
  },
  {
   "cell_type": "code",
   "execution_count": 2,
   "metadata": {},
   "outputs": [],
   "source": [
    "acq1 = LadiskDAQ.NIAcquisition(\"TestInputTask\", acquisition_name=\"NI_task\")\n",
    "\n",
    "acq2 = LadiskDAQ.SerialAcquisition(port=\"COM3\", baudrate=250000, timeout=5,\n",
    "                                  byte_sequence=((\"int16\", 1), (\"int16\", 1)),\n",
    "                                  start_bytes=b\"\\xfa\\xfb\",\n",
    "                                  end_bytes=b\"\\n\",\n",
    "                                  pretest_time= 60.,\n",
    "                                  sample_rate=500.,\n",
    "                                  acquisition_name=\"Arduino_1\"\n",
    "                                  )\n",
    "\n",
    "acq3 = LadiskDAQ.SerialAcquisition(port=\"COM8\", baudrate=250000, timeout=5,\n",
    "                                  byte_sequence=((\"int16\", 1), (\"int16\", 1)),\n",
    "                                  start_bytes=b\"\\xfa\\xfb\", \n",
    "                                  end_bytes=b\"\\n\",\n",
    "                                  pretest_time= None,\n",
    "                                  sample_rate=200,\n",
    "                                  acquisition_name=\"Arduino_2\"\n",
    "                                  )\n"
   ]
  },
  {
   "cell_type": "code",
   "execution_count": 3,
   "metadata": {},
   "outputs": [
    {
     "data": {
      "text/plain": [
       "'Arduino_2'"
      ]
     },
     "execution_count": 3,
     "metadata": {},
     "output_type": "execute_result"
    }
   ],
   "source": [
    "acq3.acquisition_name"
   ]
  },
  {
   "cell_type": "code",
   "execution_count": 4,
   "metadata": {},
   "outputs": [
    {
     "data": {
      "text/plain": [
       "(25600.0, 500.0, 200)"
      ]
     },
     "execution_count": 4,
     "metadata": {},
     "output_type": "execute_result"
    }
   ],
   "source": [
    "acq1.sample_rate, acq2.sample_rate, acq3.sample_rate"
   ]
  },
  {
   "cell_type": "code",
   "execution_count": 5,
   "metadata": {},
   "outputs": [],
   "source": [
    "# create DAQ object:\n",
    "ldaq = LadiskDAQ.Core(acquisitions=[acq2, acq1, acq3])\n",
    "ldaq.set_global_trigger(\n",
    "     trigger_source = \"Arduino_1\", \n",
    "     trigger_channel = 1, \n",
    "     trigger_level = 100.,\n",
    ")"
   ]
  },
  {
   "cell_type": "code",
   "execution_count": 6,
   "metadata": {},
   "outputs": [
    {
     "name": "stdout",
     "output_type": "stream",
     "text": [
      "+--------+-------------------------------------------------+\n",
      "| HOTKEY |                   DESCRIPTION                   |\n",
      "+--------+-------------------------------------------------+\n",
      "|   s    | Start the measurement manually (ignore trigger) |\n",
      "+--------+-------------------------------------------------+\n",
      "|   q    |              Stop the measurement               |\n",
      "+--------+-------------------------------------------------+\n",
      "|   f    |            Freeze the plot (toggle)             |\n",
      "+--------+-------------------------------------------------+\n",
      "\tWaiting for trigger...triggered.\n",
      "\tRecording...Measurement finished.\n"
     ]
    }
   ],
   "source": [
    "ldaq.run(run_time=10.0)"
   ]
  },
  {
   "cell_type": "code",
   "execution_count": 9,
   "metadata": {},
   "outputs": [],
   "source": [
    "measurement_dict = ldaq.get_measurement_dict(last_N_seconds=3.)"
   ]
  },
  {
   "cell_type": "code",
   "execution_count": 10,
   "metadata": {},
   "outputs": [],
   "source": [
    "fig, axs = plt.subplots(3, sharex=True)\n",
    "for idx, source in enumerate(list(measurement_dict.keys())):\n",
    "    meas = measurement_dict[source]\n",
    "    axs[idx].plot( meas[\"time\"], meas[\"data\"] )\n"
   ]
  },
  {
   "cell_type": "code",
   "execution_count": 11,
   "metadata": {},
   "outputs": [],
   "source": [
    "ldaq.save_measurement(\"ldaq\", root=r\"C:\\LADISK\\packages\\test_meas\")"
   ]
  },
  {
   "cell_type": "code",
   "execution_count": 12,
   "metadata": {},
   "outputs": [
    {
     "data": {
      "text/plain": [
       "{'Arduino_1': {'data': array([[  0., 447.],\n",
       "         [  0., 443.],\n",
       "         [  0., 441.],\n",
       "         ...,\n",
       "         [  0., 202.],\n",
       "         [  0., 203.],\n",
       "         [  0., 205.]]),\n",
       "  'time': array([0.000e+00, 2.000e-03, 4.000e-03, ..., 2.532e+00, 2.534e+00,\n",
       "         2.536e+00]),\n",
       "  'channel_names': ['channel 1', 'channel 2'],\n",
       "  'sample_rate': 500.0},\n",
       " 'NI_task': {'data': array([[1.56550000e-04, 1.65001896e+00],\n",
       "         [4.41835000e-04, 1.65033407e+00],\n",
       "         [5.89525000e-05, 1.65000395e+00],\n",
       "         ...,\n",
       "         [9.98841737e-01, 2.56063322e-01],\n",
       "         [9.98916812e-01, 2.56205872e-01],\n",
       "         [9.98961857e-01, 2.56839845e-01]]),\n",
       "  'time': array([0.00000000e+00, 3.90625000e-05, 7.81250000e-05, ...,\n",
       "         2.47671875e+00, 2.47675781e+00, 2.47679687e+00]),\n",
       "  'channel_names': ['Voltage', 'Voltage_0'],\n",
       "  'sample_rate': 25600.0},\n",
       " 'Arduino_2': {'data': array([[  0., 436.],\n",
       "         [  0., 432.],\n",
       "         [  0., 428.],\n",
       "         ...,\n",
       "         [204., 192.],\n",
       "         [204., 196.],\n",
       "         [  0., 200.]]),\n",
       "  'time': array([0.   , 0.005, 0.01 , 0.015, 0.02 , 0.025, 0.03 , 0.035, 0.04 ,\n",
       "         0.045, 0.05 , 0.055, 0.06 , 0.065, 0.07 , 0.075, 0.08 , 0.085,\n",
       "         0.09 , 0.095, 0.1  , 0.105, 0.11 , 0.115, 0.12 , 0.125, 0.13 ,\n",
       "         0.135, 0.14 , 0.145, 0.15 , 0.155, 0.16 , 0.165, 0.17 , 0.175,\n",
       "         0.18 , 0.185, 0.19 , 0.195, 0.2  , 0.205, 0.21 , 0.215, 0.22 ,\n",
       "         0.225, 0.23 , 0.235, 0.24 , 0.245, 0.25 , 0.255, 0.26 , 0.265,\n",
       "         0.27 , 0.275, 0.28 , 0.285, 0.29 , 0.295, 0.3  , 0.305, 0.31 ,\n",
       "         0.315, 0.32 , 0.325, 0.33 , 0.335, 0.34 , 0.345, 0.35 , 0.355,\n",
       "         0.36 , 0.365, 0.37 , 0.375, 0.38 , 0.385, 0.39 , 0.395, 0.4  ,\n",
       "         0.405, 0.41 , 0.415, 0.42 , 0.425, 0.43 , 0.435, 0.44 , 0.445,\n",
       "         0.45 , 0.455, 0.46 , 0.465, 0.47 , 0.475, 0.48 , 0.485, 0.49 ,\n",
       "         0.495, 0.5  , 0.505, 0.51 , 0.515, 0.52 , 0.525, 0.53 , 0.535,\n",
       "         0.54 , 0.545, 0.55 , 0.555, 0.56 , 0.565, 0.57 , 0.575, 0.58 ,\n",
       "         0.585, 0.59 , 0.595, 0.6  , 0.605, 0.61 , 0.615, 0.62 , 0.625,\n",
       "         0.63 , 0.635, 0.64 , 0.645, 0.65 , 0.655, 0.66 , 0.665, 0.67 ,\n",
       "         0.675, 0.68 , 0.685, 0.69 , 0.695, 0.7  , 0.705, 0.71 , 0.715,\n",
       "         0.72 , 0.725, 0.73 , 0.735, 0.74 , 0.745, 0.75 , 0.755, 0.76 ,\n",
       "         0.765, 0.77 , 0.775, 0.78 , 0.785, 0.79 , 0.795, 0.8  , 0.805,\n",
       "         0.81 , 0.815, 0.82 , 0.825, 0.83 , 0.835, 0.84 , 0.845, 0.85 ,\n",
       "         0.855, 0.86 , 0.865, 0.87 , 0.875, 0.88 , 0.885, 0.89 , 0.895,\n",
       "         0.9  , 0.905, 0.91 , 0.915, 0.92 , 0.925, 0.93 , 0.935, 0.94 ,\n",
       "         0.945, 0.95 , 0.955, 0.96 , 0.965, 0.97 , 0.975, 0.98 , 0.985,\n",
       "         0.99 , 0.995, 1.   , 1.005, 1.01 , 1.015, 1.02 , 1.025, 1.03 ,\n",
       "         1.035, 1.04 , 1.045, 1.05 , 1.055, 1.06 , 1.065, 1.07 , 1.075,\n",
       "         1.08 , 1.085, 1.09 , 1.095, 1.1  , 1.105, 1.11 , 1.115, 1.12 ,\n",
       "         1.125, 1.13 , 1.135, 1.14 , 1.145, 1.15 , 1.155, 1.16 , 1.165,\n",
       "         1.17 , 1.175, 1.18 , 1.185, 1.19 , 1.195, 1.2  , 1.205, 1.21 ,\n",
       "         1.215, 1.22 , 1.225, 1.23 , 1.235, 1.24 , 1.245, 1.25 , 1.255,\n",
       "         1.26 , 1.265, 1.27 , 1.275, 1.28 , 1.285, 1.29 , 1.295, 1.3  ,\n",
       "         1.305, 1.31 , 1.315, 1.32 , 1.325, 1.33 , 1.335, 1.34 , 1.345,\n",
       "         1.35 , 1.355, 1.36 , 1.365, 1.37 , 1.375, 1.38 , 1.385, 1.39 ,\n",
       "         1.395, 1.4  , 1.405, 1.41 , 1.415, 1.42 , 1.425, 1.43 , 1.435,\n",
       "         1.44 , 1.445, 1.45 , 1.455, 1.46 , 1.465, 1.47 , 1.475, 1.48 ,\n",
       "         1.485, 1.49 , 1.495, 1.5  , 1.505, 1.51 , 1.515, 1.52 , 1.525,\n",
       "         1.53 , 1.535, 1.54 , 1.545, 1.55 , 1.555, 1.56 , 1.565, 1.57 ,\n",
       "         1.575, 1.58 , 1.585, 1.59 , 1.595, 1.6  , 1.605, 1.61 , 1.615,\n",
       "         1.62 , 1.625, 1.63 , 1.635, 1.64 , 1.645, 1.65 , 1.655, 1.66 ,\n",
       "         1.665, 1.67 , 1.675, 1.68 , 1.685, 1.69 , 1.695, 1.7  , 1.705,\n",
       "         1.71 , 1.715, 1.72 , 1.725, 1.73 , 1.735, 1.74 , 1.745, 1.75 ,\n",
       "         1.755, 1.76 , 1.765, 1.77 , 1.775, 1.78 , 1.785, 1.79 , 1.795,\n",
       "         1.8  , 1.805, 1.81 , 1.815, 1.82 , 1.825, 1.83 , 1.835, 1.84 ,\n",
       "         1.845, 1.85 , 1.855, 1.86 , 1.865, 1.87 , 1.875, 1.88 , 1.885,\n",
       "         1.89 , 1.895, 1.9  , 1.905, 1.91 , 1.915, 1.92 , 1.925, 1.93 ,\n",
       "         1.935, 1.94 , 1.945, 1.95 , 1.955, 1.96 , 1.965, 1.97 , 1.975,\n",
       "         1.98 , 1.985, 1.99 , 1.995, 2.   , 2.005, 2.01 , 2.015, 2.02 ,\n",
       "         2.025, 2.03 , 2.035, 2.04 , 2.045, 2.05 , 2.055, 2.06 , 2.065,\n",
       "         2.07 , 2.075, 2.08 , 2.085, 2.09 , 2.095, 2.1  , 2.105, 2.11 ,\n",
       "         2.115, 2.12 , 2.125, 2.13 , 2.135, 2.14 , 2.145, 2.15 , 2.155,\n",
       "         2.16 , 2.165, 2.17 , 2.175, 2.18 , 2.185, 2.19 , 2.195, 2.2  ,\n",
       "         2.205, 2.21 , 2.215, 2.22 , 2.225, 2.23 , 2.235, 2.24 , 2.245,\n",
       "         2.25 , 2.255, 2.26 , 2.265, 2.27 , 2.275, 2.28 , 2.285, 2.29 ,\n",
       "         2.295, 2.3  , 2.305, 2.31 , 2.315, 2.32 , 2.325, 2.33 , 2.335,\n",
       "         2.34 , 2.345, 2.35 , 2.355, 2.36 , 2.365, 2.37 , 2.375, 2.38 ,\n",
       "         2.385, 2.39 , 2.395, 2.4  , 2.405, 2.41 , 2.415, 2.42 , 2.425,\n",
       "         2.43 , 2.435, 2.44 , 2.445, 2.45 , 2.455, 2.46 , 2.465, 2.47 ,\n",
       "         2.475, 2.48 , 2.485, 2.49 , 2.495, 2.5  , 2.505]),\n",
       "  'channel_names': ['channel 1', 'channel 2'],\n",
       "  'sample_rate': 200}}"
      ]
     },
     "execution_count": 12,
     "metadata": {},
     "output_type": "execute_result"
    }
   ],
   "source": [
    "LadiskDAQ.load_measurement(\"20230404_124611_ldaq.pkl\", r\"C:\\LADISK\\packages\\test_meas\")"
   ]
  },
  {
   "cell_type": "code",
   "execution_count": null,
   "metadata": {},
   "outputs": [],
   "source": []
  }
 ],
 "metadata": {
  "kernelspec": {
   "display_name": "Python 3.9.12 ('base')",
   "language": "python",
   "name": "python3"
  },
  "language_info": {
   "codemirror_mode": {
    "name": "ipython",
    "version": 3
   },
   "file_extension": ".py",
   "mimetype": "text/x-python",
   "name": "python",
   "nbconvert_exporter": "python",
   "pygments_lexer": "ipython3",
   "version": "3.9.12"
  },
  "toc": {
   "base_numbering": 1,
   "nav_menu": {},
   "number_sections": true,
   "sideBar": true,
   "skip_h1_title": false,
   "title_cell": "Table of Contents",
   "title_sidebar": "Contents",
   "toc_cell": false,
   "toc_position": {},
   "toc_section_display": true,
   "toc_window_display": false
  },
  "varInspector": {
   "cols": {
    "lenName": 16,
    "lenType": 16,
    "lenVar": 40
   },
   "kernels_config": {
    "python": {
     "delete_cmd_postfix": "",
     "delete_cmd_prefix": "del ",
     "library": "var_list.py",
     "varRefreshCmd": "print(var_dic_list())"
    },
    "r": {
     "delete_cmd_postfix": ") ",
     "delete_cmd_prefix": "rm(",
     "library": "var_list.r",
     "varRefreshCmd": "cat(var_dic_list()) "
    }
   },
   "types_to_exclude": [
    "module",
    "function",
    "builtin_function_or_method",
    "instance",
    "_Feature"
   ],
   "window_display": false
  },
  "vscode": {
   "interpreter": {
    "hash": "4a14d6850f8b7ae03939e3e8d0a94af880f09a63e1f8d48b5eb202e35ffc6de5"
   }
  }
 },
 "nbformat": 4,
 "nbformat_minor": 4
}
