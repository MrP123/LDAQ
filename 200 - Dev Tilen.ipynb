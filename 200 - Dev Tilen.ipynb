{
 "cells": [
  {
   "cell_type": "code",
   "execution_count": 1,
   "metadata": {},
   "outputs": [],
   "source": [
    "import numpy as np\n",
    "import matplotlib.pyplot as plt\n",
    "import matplotlib\n",
    "matplotlib.rcsetup.all_backends\n",
    "import pickle\n",
    "\n",
    "import pyExSi\n",
    "\n",
    "import LadiskDAQ\n",
    "\n",
    "%matplotlib qt"
   ]
  },
  {
   "cell_type": "code",
   "execution_count": 2,
   "metadata": {},
   "outputs": [],
   "source": [
    "acq1 = LadiskDAQ.NIAcquisition(\"TestInputTask\", acquisition_name=\"NI_task\")\n",
    "\n",
    "acq2 = LadiskDAQ.SerialAcquisition(port=\"COM3\", baudrate=250000, timeout=5,\n",
    "                                  byte_sequence=((\"uint32\", 1), (\"int16\", 1), (\"int16\", 1)),\n",
    "                                  start_bytes=b\"\\xfa\\xfb\",\n",
    "                                  end_bytes=b\"\\n\",\n",
    "                                  pretest_time= 60.,\n",
    "                                  sample_rate=500.,\n",
    "                                  acquisition_name=\"Arduino_1\"\n",
    "                                  )\n",
    "#acq2.set_trigger(1, 0, duration=2) #TODO\n",
    "\n",
    "acq3 = LadiskDAQ.SerialAcquisition(port=\"COM8\", baudrate=250000, timeout=5,\n",
    "                                  byte_sequence=((\"uint32\", 1), (\"int16\", 1), (\"int16\", 1)),\n",
    "                                  start_bytes=b\"\\xfa\\xfb\", \n",
    "                                  end_bytes=b\"\\n\",\n",
    "                                  pretest_time= None,\n",
    "                                  sample_rate=200,\n",
    "                                  acquisition_name=\"Arduino_2\"\n",
    "                                  )"
   ]
  },
  {
   "cell_type": "code",
   "execution_count": 3,
   "metadata": {},
   "outputs": [
    {
     "data": {
      "text/plain": [
       "(25600.0, 500.0, 200)"
      ]
     },
     "execution_count": 3,
     "metadata": {},
     "output_type": "execute_result"
    }
   ],
   "source": [
    "acq1.sample_rate, acq2.sample_rate, acq3.sample_rate"
   ]
  },
  {
   "cell_type": "code",
   "execution_count": 4,
   "metadata": {},
   "outputs": [],
   "source": [
    "# create DAQ object:\n",
    "ldaq = LadiskDAQ.Core(acquisitions=[acq1, acq2, acq3])"
   ]
  },
  {
   "cell_type": "code",
   "execution_count": 5,
   "metadata": {},
   "outputs": [
    {
     "name": "stdout",
     "output_type": "stream",
     "text": [
      "+--------+--------------------------------------------------+\n",
      "| HOTKEY |                   DESCRIPTION                    |\n",
      "+--------+--------------------------------------------------+\n",
      "|   q    |               Stop the measurement               |\n",
      "+--------+--------------------------------------------------+\n",
      "|   s    | Start the measurement manually (without trigger) |\n",
      "+--------+--------------------------------------------------+\n",
      "|   f    |      Freeze the plot during the measurement      |\n",
      "+--------+--------------------------------------------------+\n",
      "| Space  |           Resume the plot after freeze           |\n",
      "+--------+--------------------------------------------------+\n",
      "\tWaiting for trigger...triggered.\n",
      "\tRecording..."
     ]
    }
   ],
   "source": [
    "ldaq.run(run_time=5.0)"
   ]
  },
  {
   "cell_type": "code",
   "execution_count": 11,
   "metadata": {},
   "outputs": [
    {
     "data": {
      "text/plain": [
       "[<matplotlib.lines.Line2D at 0x22b0204c970>,\n",
       " <matplotlib.lines.Line2D at 0x22b02034e20>]"
      ]
     },
     "execution_count": 11,
     "metadata": {},
     "output_type": "execute_result"
    }
   ],
   "source": [
    "fig, axs = plt.subplots(3, sharex=True)\n",
    "axs[0].plot( ldaq.acquisitions[0].time, ldaq.acquisitions[0].data )\n",
    "axs[1].plot( ldaq.acquisitions[1].time, ldaq.acquisitions[1].data[:, 1:] )\n",
    "axs[2].plot( ldaq.acquisitions[2].time, ldaq.acquisitions[2].data[:, 1:] )"
   ]
  },
  {
   "cell_type": "code",
   "execution_count": 7,
   "metadata": {},
   "outputs": [
    {
     "data": {
      "text/plain": [
       "(array([2170024., 2172024., 2174024., ..., 7180024., 7182024., 7184024.]),\n",
       " array([1500024., 1502024., 1504024., ..., 6512024., 6514024., 6516024.]))"
      ]
     },
     "execution_count": 7,
     "metadata": {},
     "output_type": "execute_result"
    }
   ],
   "source": [
    "ldaq.acquisitions[1].data[:, 0], ldaq.acquisitions[2].data[:, 0] "
   ]
  },
  {
   "cell_type": "code",
   "execution_count": 13,
   "metadata": {},
   "outputs": [
    {
     "data": {
      "text/plain": [
       "[<matplotlib.lines.Line2D at 0x2700f2c0dc0>,\n",
       " <matplotlib.lines.Line2D at 0x2700f2c0e20>,\n",
       " <matplotlib.lines.Line2D at 0x2700f2c0f40>]"
      ]
     },
     "execution_count": 13,
     "metadata": {},
     "output_type": "execute_result"
    }
   ],
   "source": [
    "plt.figure()\n",
    "plt.plot( ldaq.acquisitions[1].plot_time, ldaq.acquisitions[1].plot_data ) "
   ]
  },
  {
   "cell_type": "code",
   "execution_count": 29,
   "metadata": {},
   "outputs": [],
   "source": [
    "i = 2\n",
    "\n",
    "data = ldaq.acquisitions[i].data\n",
    "time_arr = np.arange(len(data))/ldaq.acquisitions[i].sample_rate\n",
    "time_sent = data[:, 0]"
   ]
  },
  {
   "cell_type": "code",
   "execution_count": 30,
   "metadata": {},
   "outputs": [
    {
     "data": {
      "text/plain": [
       "335.51058823529445"
      ]
     },
     "execution_count": 30,
     "metadata": {},
     "output_type": "execute_result"
    }
   ],
   "source": [
    "#plt.figure()\n",
    "#plt.plot(np.diff(time_sent*1e-3))\n",
    "\n",
    "( time_arr[-1]-time_arr[0] - 1e-6*(time_sent[-1]-time_sent[0]) )*1e3\n",
    "\n",
    "\n",
    "#60 seconds: 56.40274111675181 ms"
   ]
  },
  {
   "cell_type": "code",
   "execution_count": null,
   "metadata": {},
   "outputs": [],
   "source": []
  }
 ],
 "metadata": {
  "kernelspec": {
   "display_name": "Python 3.9.12 ('base')",
   "language": "python",
   "name": "python3"
  },
  "language_info": {
   "codemirror_mode": {
    "name": "ipython",
    "version": 3
   },
   "file_extension": ".py",
   "mimetype": "text/x-python",
   "name": "python",
   "nbconvert_exporter": "python",
   "pygments_lexer": "ipython3",
   "version": "3.9.12"
  },
  "toc": {
   "base_numbering": 1,
   "nav_menu": {},
   "number_sections": true,
   "sideBar": true,
   "skip_h1_title": false,
   "title_cell": "Table of Contents",
   "title_sidebar": "Contents",
   "toc_cell": false,
   "toc_position": {},
   "toc_section_display": true,
   "toc_window_display": false
  },
  "varInspector": {
   "cols": {
    "lenName": 16,
    "lenType": 16,
    "lenVar": 40
   },
   "kernels_config": {
    "python": {
     "delete_cmd_postfix": "",
     "delete_cmd_prefix": "del ",
     "library": "var_list.py",
     "varRefreshCmd": "print(var_dic_list())"
    },
    "r": {
     "delete_cmd_postfix": ") ",
     "delete_cmd_prefix": "rm(",
     "library": "var_list.r",
     "varRefreshCmd": "cat(var_dic_list()) "
    }
   },
   "types_to_exclude": [
    "module",
    "function",
    "builtin_function_or_method",
    "instance",
    "_Feature"
   ],
   "window_display": false
  },
  "vscode": {
   "interpreter": {
    "hash": "4a14d6850f8b7ae03939e3e8d0a94af880f09a63e1f8d48b5eb202e35ffc6de5"
   }
  }
 },
 "nbformat": 4,
 "nbformat_minor": 4
}
