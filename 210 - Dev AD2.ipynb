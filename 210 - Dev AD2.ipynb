{
 "cells": [
  {
   "cell_type": "code",
   "execution_count": 1,
   "metadata": {},
   "outputs": [],
   "source": [
    "from ctypes import *\n",
    "from LadiskDAQ import dwfconstants as dwfc\n",
    "import math\n",
    "import time\n",
    "import matplotlib.pyplot as plt\n",
    "import sys\n",
    "import numpy\n",
    "\n",
    "%matplotlib qt\n"
   ]
  },
  {
   "cell_type": "code",
   "execution_count": 2,
   "metadata": {},
   "outputs": [
    {
     "name": "stdout",
     "output_type": "stream",
     "text": [
      "Opening first device\n",
      "Generating sine wave...\n",
      "Starting oscilloscope\n",
      "Recording done\n"
     ]
    }
   ],
   "source": [
    "if sys.platform.startswith(\"win\"):\n",
    "    dwf = cdll.dwf\n",
    "elif sys.platform.startswith(\"darwin\"):\n",
    "    dwf = cdll.LoadLibrary(\"/Library/Frameworks/dwf.framework/dwf\")\n",
    "else:\n",
    "    dwf = cdll.LoadLibrary(\"libdwf.so\")\n",
    "\n",
    "#declare ctype variables\n",
    "hdwf = c_int()\n",
    "sts = c_byte()\n",
    "hzAcq = c_double(100000)\n",
    "nSamples = 200000\n",
    "rgdSamples = (c_double*nSamples)()\n",
    "cAvailable = c_int()\n",
    "cLost = c_int()\n",
    "cCorrupted = c_int()\n",
    "fLost = 0\n",
    "fCorrupted = 0\n",
    "\n",
    "\n",
    "print(\"Opening first device\")\n",
    "dwf.FDwfDeviceOpen(c_int(-1), byref(hdwf))\n",
    "if hdwf.value == dwfc.hdwfNone.value:\n",
    "    dwf.FDwfDeviceOpen(c_int(-1), byref(hdwf))\n",
    "\n",
    "if hdwf.value == dwfc.hdwfNone.value:\n",
    "    szerr = create_string_buffer(512)\n",
    "    dwf.FDwfGetLastErrorMsg(szerr)\n",
    "    print(str(szerr.value))\n",
    "    print(\"failed to open device\")\n",
    "    quit()\n",
    "\n",
    "print(\"Generating sine wave...\")\n",
    "dwf.FDwfAnalogOutNodeEnableSet(hdwf, c_int(0), dwfc.AnalogOutNodeCarrier, c_bool(True))\n",
    "dwf.FDwfAnalogOutNodeFunctionSet(hdwf, c_int(0), dwfc.AnalogOutNodeCarrier, dwfc.funcSine)\n",
    "dwf.FDwfAnalogOutNodeFrequencySet(hdwf, c_int(0), dwfc.AnalogOutNodeCarrier, c_double(1))\n",
    "dwf.FDwfAnalogOutNodeAmplitudeSet(hdwf, c_int(0), dwfc.AnalogOutNodeCarrier, c_double(2))\n",
    "dwf.FDwfAnalogOutNodeOffsetSet(hdwf, c_int(0), dwfc.AnalogOutNodeCarrier, c_double(2))\n",
    "dwf.FDwfAnalogOutConfigure(hdwf, c_int(0), c_bool(True))\n",
    "\n",
    "#set up acquisition\n",
    "dwf.FDwfAnalogInChannelEnableSet(hdwf, c_int(0), c_bool(True))\n",
    "dwf.FDwfAnalogInChannelRangeSet(hdwf, c_int(0), c_double(10))\n",
    "dwf.FDwfAnalogInAcquisitionModeSet(hdwf, dwfc.acqmodeRecord)\n",
    "dwf.FDwfAnalogInFrequencySet(hdwf, hzAcq)\n",
    "dwf.FDwfAnalogInRecordLengthSet(hdwf, c_double(nSamples/hzAcq.value)) # -1 infinite record length\n",
    "\n",
    "#wait at least 2 seconds for the offset to stabilize\n",
    "time.sleep(2)\n",
    "\n",
    "print(\"Starting oscilloscope\")\n",
    "dwf.FDwfAnalogInConfigure(hdwf, c_int(0), c_int(1))\n",
    "\n",
    "cSamples = 0\n",
    "acq_list = []\n",
    "temp_samples = []\n",
    "\n",
    "while cSamples < nSamples:\n",
    "    dwf.FDwfAnalogInStatus(hdwf, c_int(1), byref(sts))\n",
    "    if cSamples == 0 and (sts == dwfc.DwfStateConfig or sts == dwfc.DwfStatePrefill or sts == dwfc.DwfStateArmed) :\n",
    "        # Acquisition not yet started.\n",
    "        continue\n",
    "\n",
    "    dwf.FDwfAnalogInStatusRecord(hdwf, byref(cAvailable), byref(cLost), byref(cCorrupted))\n",
    "    \n",
    "    cSamples += cLost.value\n",
    "\n",
    "    if cLost.value :\n",
    "        fLost = 1\n",
    "    if cCorrupted.value :\n",
    "        fCorrupted = 1\n",
    "\n",
    "    if cAvailable.value==0 :\n",
    "        continue\n",
    "\n",
    "    if cSamples+cAvailable.value > nSamples :\n",
    "        cAvailable = c_int(nSamples-cSamples)\n",
    "    cSamples += cAvailable.value\n",
    "    \n",
    "    tempSamples = (c_double*cAvailable.value)()\n",
    "    \n",
    "    acq_list.append(cAvailable.value)\n",
    "    #dwf.FDwfAnalogInStatusData(hdwf, c_int(0), byref(rgdSamples, sizeof(c_double)*cSamples), cAvailable) # get channel 1 data\n",
    "    dwf.FDwfAnalogInStatusData(hdwf, c_int(0), byref(tempSamples), cAvailable) # get channel 1 data\n",
    "    \n",
    "    temp_samples.append( numpy.fromiter(tempSamples, dtype =float ))\n",
    "    #dwf.FDwfAnalogInStatusData(hdwf, c_int(1), byref(rgdSamples, sizeof(c_double)*cSamples), cAvailable) # get channel 2 data\n",
    "\n",
    "\n",
    "dwf.FDwfAnalogOutReset(hdwf, c_int(0))\n",
    "dwf.FDwfDeviceCloseAll()\n",
    "\n",
    "print(\"Recording done\")\n",
    "if fLost:\n",
    "    print(\"Samples were lost! Reduce frequency\")\n",
    "if fCorrupted:\n",
    "    print(\"Samples could be corrupted! Reduce frequency\")\n",
    "\n",
    "\n",
    "  \n",
    "plt.plot(numpy.fromiter(rgdSamples, dtype =float))\n",
    "plt.show()\n",
    "\n",
    "\n"
   ]
  },
  {
   "cell_type": "code",
   "execution_count": 1,
   "metadata": {},
   "outputs": [],
   "source": [
    "import numpy as np\n",
    "import matplotlib.pyplot as plt\n",
    "import matplotlib\n",
    "matplotlib.rcsetup.all_backends\n",
    "\n",
    "import pickle\n",
    "import pyExSi\n",
    "\n",
    "import LadiskDAQ\n",
    "import os\n",
    "\n",
    "%matplotlib qt"
   ]
  },
  {
   "cell_type": "code",
   "execution_count": 20,
   "metadata": {},
   "outputs": [],
   "source": [
    "\n",
    "acq1 = LadiskDAQ.WaveFormsAcquisition(\n",
    "    channels=[0, 1],    sample_rate=10000, \n",
    "    channel_names=None, acquisition_name=\"AD2 DEV\", device_number=None\n",
    ")\n",
    "acq1.configure_channels(\n",
    "    input_range={0: (-1, 1), 1: (-1, 1)},\n",
    ")"
   ]
  },
  {
   "cell_type": "code",
   "execution_count": 25,
   "metadata": {},
   "outputs": [],
   "source": [
    "subplot_options = {\n",
    "            (0, 0): {\n",
    "                'xlim': (0, 2),\n",
    "                'ylim': (-1, 1),\n",
    "                'axis_style': 'linear'\n",
    "            },\n",
    "            (1, 0): {\n",
    "                'xlim': (0, 1000),\n",
    "                'axis_style': 'linear'\n",
    "            },\n",
    "        }\n",
    "layout = {\n",
    "    \"AD2 DEV\":{\n",
    "        (0, 0): [0, 1],\n",
    "        (1, 0): [0, 1, \"fft\"],\n",
    "    }\n",
    "}\n",
    "\n",
    "vis = LadiskDAQ.Visualization(layout=layout, subplot_options=subplot_options, \n",
    "                              nth=100, refresh_rate=100)\n"
   ]
  },
  {
   "cell_type": "code",
   "execution_count": 26,
   "metadata": {},
   "outputs": [],
   "source": [
    "ldaq = LadiskDAQ.Core(acquisitions=[acq1], visualization=vis)"
   ]
  },
  {
   "cell_type": "code",
   "execution_count": 27,
   "metadata": {},
   "outputs": [
    {
     "name": "stdout",
     "output_type": "stream",
     "text": [
      "\tWaiting for trigger...Measurement finished.\n"
     ]
    }
   ],
   "source": [
    "ldaq.run(5)"
   ]
  },
  {
   "cell_type": "code",
   "execution_count": 16,
   "metadata": {},
   "outputs": [
    {
     "data": {
      "text/plain": [
       "{'data': array([[ 0.00435592, -0.0034559 ],\n",
       "        [ 0.00435592, -0.0034559 ],\n",
       "        [ 0.00435592, -0.0034559 ],\n",
       "        ...,\n",
       "        [ 0.00435592, -0.0034559 ],\n",
       "        [ 0.00435592,  0.00024256],\n",
       "        [ 0.00435592,  0.00024256]]),\n",
       " 'time': array([0.000e+00, 1.000e-03, 2.000e-03, ..., 9.997e+00, 9.998e+00,\n",
       "        9.999e+00]),\n",
       " 'channel_names': ['CH0', 'CH1'],\n",
       " 'sample_rate': 1000}"
      ]
     },
     "execution_count": 16,
     "metadata": {},
     "output_type": "execute_result"
    }
   ],
   "source": [
    "meas = ldaq.get_measurement_dict()[\"AD2 DEV\"]\n",
    "meas"
   ]
  },
  {
   "cell_type": "code",
   "execution_count": 17,
   "metadata": {},
   "outputs": [
    {
     "data": {
      "text/plain": [
       "[<matplotlib.lines.Line2D at 0x2ce5ef450a0>]"
      ]
     },
     "execution_count": 17,
     "metadata": {},
     "output_type": "execute_result"
    }
   ],
   "source": [
    "fig, axs = plt.subplots()\n",
    "axs.plot(meas[\"time\"], meas[\"data\"][:, 0], label=\"Channel 0\")\n",
    "axs.plot(meas[\"time\"], meas[\"data\"][:, 1], label=\"Channel 1\")"
   ]
  },
  {
   "cell_type": "code",
   "execution_count": null,
   "metadata": {},
   "outputs": [],
   "source": []
  }
 ],
 "metadata": {
  "kernelspec": {
   "display_name": "base",
   "language": "python",
   "name": "python3"
  },
  "language_info": {
   "codemirror_mode": {
    "name": "ipython",
    "version": 3
   },
   "file_extension": ".py",
   "mimetype": "text/x-python",
   "name": "python",
   "nbconvert_exporter": "python",
   "pygments_lexer": "ipython3",
   "version": "3.9.12"
  },
  "orig_nbformat": 4
 },
 "nbformat": 4,
 "nbformat_minor": 2
}
