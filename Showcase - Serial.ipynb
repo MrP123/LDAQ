{
 "cells": [
  {
   "cell_type": "code",
   "execution_count": 1,
   "metadata": {},
   "outputs": [],
   "source": [
    "%matplotlib qt"
   ]
  },
  {
   "cell_type": "code",
   "execution_count": 1,
   "metadata": {},
   "outputs": [],
   "source": [
    "import LadiskDAQ"
   ]
  },
  {
   "cell_type": "markdown",
   "metadata": {},
   "source": [
    "# Acquisition"
   ]
  },
  {
   "cell_type": "markdown",
   "metadata": {},
   "source": [
    "Define serial communication settings, make an instance of `acquisition` class:"
   ]
  },
  {
   "cell_type": "code",
   "execution_count": 2,
   "metadata": {},
   "outputs": [],
   "source": [
    "# an example of incoming data representing one line: \n",
    "# b\"\\xfa\\xfb\\x00\\x00\\x00\\x01\\x00\\x00\\x00\\x02\\x00\\x03\\n\"\n",
    "\n",
    "port = \"COM3\"      \n",
    "baudrate = 250000\n",
    "\n",
    "byte_sequence = ((\"uint32\", 1), (\"int32\", 1), (\"int16\", 1)) # sequence of recieved data without starting and ending bytes\n",
    "\n",
    "\n",
    "acq = LadiskDAQ.SerialAcquisition(port=port, baudrate=baudrate, \n",
    "                                  byte_sequence=byte_sequence,\n",
    "                                  start_bytes=b\"\\xfa\\xfb\", # starting bytes (always the same in each line)\n",
    "                                  end_bytes=b\"\\n\",         # ending bytes (always the same)\n",
    "                                  write_start_bytes=b\"\\x01\", # bytes to write to data source before acquisition (i.e. start sending data)\n",
    "                                  write_end_bytes=  b\"\\x02\", # bytes to write to data source after acquisition (i.e. stop sending data)  \n",
    "                                  sample_rate=500            # approximate sample rate of data recieved. Used to calculate N samples to \n",
    "                                                             # capture within specified time interval. TODO: detect this automatically\n",
    "                                  )\n",
    "                                  "
   ]
  },
  {
   "cell_type": "markdown",
   "metadata": {},
   "source": [
    "Set the trigger. If you want the acquisition to start immediately, set the `level` to zero."
   ]
  },
  {
   "cell_type": "code",
   "execution_count": null,
   "metadata": {},
   "outputs": [],
   "source": [
    "acq.set_trigger(level=0.5, channel=0, duration=11, presamples=10)"
   ]
  },
  {
   "cell_type": "markdown",
   "metadata": {},
   "source": [
    "# Running the acquisition"
   ]
  },
  {
   "cell_type": "markdown",
   "metadata": {},
   "source": [
    "The acquisition and generation can be run separately by calling:\n",
    "```\n",
    "acq.run_acquisition()\n",
    "```\n",
    "\n",
    "To combine include real time plot, put `acq` into the `LDAQ` class. "
   ]
  },
  {
   "cell_type": "code",
   "execution_count": 4,
   "metadata": {},
   "outputs": [],
   "source": [
    "# create DAQ object:\n",
    "ldaq = LadiskDAQ.LDAQ(acq)\n",
    "\n",
    "# configure plot:\n",
    "plot_layout={\n",
    "    (0, 0): [1, 2],           # on subplot[0, 0], plot channels 2 and 3\n",
    "    (0, 1): [0],              # on subplot[0, 1], plot channel  1\n",
    "    (1, 0): [(0, 1), (0, 2) ] # on subplot[1, 0], plot channels 2 and 3 versus channel 1\n",
    "                              # subplot[1, 1] is empty\n",
    "}\n",
    "\n",
    "ldaq.configure(plot_layout=plot_layout, \n",
    "               max_time=4) # on the subplots, display last 4 seconds of the signal "
   ]
  },
  {
   "cell_type": "markdown",
   "metadata": {},
   "source": [
    "The visualization can be configured using the `configure` method. \n",
    "\n",
    "The plot layout can be costumized, the acquired data can be processed on-the-fly using a custom function etc. For more details on plot layout, see docstring of the `configure` method."
   ]
  },
  {
   "cell_type": "markdown",
   "metadata": {},
   "source": [
    "After the configuration is done, the acquisition can be started by calling the `run` method. Everytime the `run` method is called, the port is opened and data stream is started."
   ]
  },
  {
   "cell_type": "code",
   "execution_count": 5,
   "metadata": {},
   "outputs": [
    {
     "name": "stdout",
     "output_type": "stream",
     "text": [
      "+--------+--------------------------------------------------+\n",
      "| HOTKEY |                   DESCRIPTION                    |\n",
      "+--------+--------------------------------------------------+\n",
      "|   q    |               Stop the measurement               |\n",
      "+--------+--------------------------------------------------+\n",
      "|   s    | Start the measurement manually (without trigger) |\n",
      "+--------+--------------------------------------------------+\n",
      "|   f    |      Freeze the plot during the measurement      |\n",
      "+--------+--------------------------------------------------+\n",
      "| Space  |           Resume the plot after freeze           |\n",
      "+--------+--------------------------------------------------+\n",
      "\tWaiting for trigger...stop.\n"
     ]
    }
   ],
   "source": [
    "ldaq.run()"
   ]
  },
  {
   "cell_type": "markdown",
   "metadata": {},
   "source": [
    "Measured data can be accessed as `ldaq.acquisition.data`, to save the measurements as dictionary to pickle, use  `ldaq.save_measurement()` method. \n"
   ]
  },
  {
   "cell_type": "code",
   "execution_count": 9,
   "metadata": {},
   "outputs": [
    {
     "data": {
      "text/plain": [
       "array([[0.00000000e+00, 0.00000000e+00, 0.00000000e+00],\n",
       "       [0.00000000e+00, 0.00000000e+00, 0.00000000e+00],\n",
       "       [0.00000000e+00, 0.00000000e+00, 0.00000000e+00],\n",
       "       ...,\n",
       "       [4.57075536e+08, 4.40000000e+01, 8.00000000e+01],\n",
       "       [4.57077532e+08, 4.50000000e+01, 7.90000000e+01],\n",
       "       [4.57079540e+08, 4.60000000e+01, 7.80000000e+01]])"
      ]
     },
     "execution_count": 9,
     "metadata": {},
     "output_type": "execute_result"
    }
   ],
   "source": [
    "ldaq.acquisition.data"
   ]
  }
 ],
 "metadata": {
  "kernelspec": {
   "display_name": "Python 3.9.12 ('base')",
   "language": "python",
   "name": "python3"
  },
  "language_info": {
   "codemirror_mode": {
    "name": "ipython",
    "version": 3
   },
   "file_extension": ".py",
   "mimetype": "text/x-python",
   "name": "python",
   "nbconvert_exporter": "python",
   "pygments_lexer": "ipython3",
   "version": "3.9.12"
  },
  "toc": {
   "base_numbering": 1,
   "nav_menu": {},
   "number_sections": true,
   "sideBar": true,
   "skip_h1_title": false,
   "title_cell": "Table of Contents",
   "title_sidebar": "Contents",
   "toc_cell": false,
   "toc_position": {},
   "toc_section_display": true,
   "toc_window_display": false
  },
  "varInspector": {
   "cols": {
    "lenName": 16,
    "lenType": 16,
    "lenVar": 40
   },
   "kernels_config": {
    "python": {
     "delete_cmd_postfix": "",
     "delete_cmd_prefix": "del ",
     "library": "var_list.py",
     "varRefreshCmd": "print(var_dic_list())"
    },
    "r": {
     "delete_cmd_postfix": ") ",
     "delete_cmd_prefix": "rm(",
     "library": "var_list.r",
     "varRefreshCmd": "cat(var_dic_list()) "
    }
   },
   "types_to_exclude": [
    "module",
    "function",
    "builtin_function_or_method",
    "instance",
    "_Feature"
   ],
   "window_display": false
  },
  "vscode": {
   "interpreter": {
    "hash": "4a14d6850f8b7ae03939e3e8d0a94af880f09a63e1f8d48b5eb202e35ffc6de5"
   }
  }
 },
 "nbformat": 4,
 "nbformat_minor": 2
}
